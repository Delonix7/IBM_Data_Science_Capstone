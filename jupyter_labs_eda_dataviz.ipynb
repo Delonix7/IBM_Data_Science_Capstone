{
  "cells": [
    {
      "cell_type": "markdown",
      "metadata": {
        "id": "view-in-github",
        "colab_type": "text"
      },
      "source": [
        "<a href=\"https://colab.research.google.com/github/Delonix7/IBM_Data_Science_Capstone/blob/main/jupyter_labs_eda_dataviz.ipynb\" target=\"_parent\"><img src=\"https://colab.research.google.com/assets/colab-badge.svg\" alt=\"Open In Colab\"/></a>"
      ]
    },
    {
      "cell_type": "markdown",
      "metadata": {
        "id": "MhtBCDAYZb_J"
      },
      "source": [
        "<p style=\"text-align:center\">\n",
        "    <a href=\"https://skills.network/?utm_medium=Exinfluencer&utm_source=Exinfluencer&utm_content=000026UJ&utm_term=10006555&utm_id=NA-SkillsNetwork-Channel-SkillsNetworkCoursesIBMDS0321ENSkillsNetwork26802033-2022-01-01\" target=\"_blank\">\n",
        "    <img src=\"https://cf-courses-data.s3.us.cloud-object-storage.appdomain.cloud/assets/logos/SN_web_lightmode.png\" width=\"200\" alt=\"Skills Network Logo\"  />\n",
        "    </a>\n",
        "</p>\n"
      ]
    },
    {
      "cell_type": "markdown",
      "metadata": {
        "id": "GQ0yz8yRZb_N"
      },
      "source": [
        "# **SpaceX  Falcon 9 First Stage Landing Prediction**\n"
      ]
    },
    {
      "cell_type": "markdown",
      "metadata": {
        "id": "IOw0SS3nZb_O"
      },
      "source": [
        "## Assignment: Exploring and Preparing Data\n"
      ]
    },
    {
      "cell_type": "markdown",
      "metadata": {
        "id": "ZXNJnqkwZb_P"
      },
      "source": [
        "Estimated time needed: **70** minutes\n"
      ]
    },
    {
      "cell_type": "markdown",
      "metadata": {
        "id": "nOv6PuOkZb_P"
      },
      "source": [
        "In this assignment, we will predict if the Falcon 9 first stage will land successfully. SpaceX advertises Falcon 9 rocket launches on its website with a cost of 62 million dollars; other providers cost upward of 165 million dollars each, much of the savings is due to the fact that SpaceX can reuse the first stage.\n",
        "\n",
        "In this lab, you will perform Exploratory Data Analysis and Feature Engineering.\n"
      ]
    },
    {
      "cell_type": "markdown",
      "metadata": {
        "id": "OvTPdFWAZb_P"
      },
      "source": [
        "Falcon 9 first stage will land successfully\n"
      ]
    },
    {
      "cell_type": "markdown",
      "metadata": {
        "id": "VF0V-bGkZb_Q"
      },
      "source": [
        "![](https://cf-courses-data.s3.us.cloud-object-storage.appdomain.cloud/IBMDeveloperSkillsNetwork-DS0701EN-SkillsNetwork/api/Images/landing\\_1.gif)\n"
      ]
    },
    {
      "cell_type": "markdown",
      "metadata": {
        "id": "rJC4Qo08Zb_Q"
      },
      "source": [
        "Several examples of an unsuccessful landing are shown here:\n"
      ]
    },
    {
      "cell_type": "markdown",
      "metadata": {
        "id": "Kk4ATwO6Zb_Q"
      },
      "source": [
        "![](https://cf-courses-data.s3.us.cloud-object-storage.appdomain.cloud/IBMDeveloperSkillsNetwork-DS0701EN-SkillsNetwork/api/Images/crash.gif)\n"
      ]
    },
    {
      "cell_type": "markdown",
      "metadata": {
        "id": "Ojv4mSNxZb_R"
      },
      "source": [
        "Most unsuccessful landings are planned. Space X performs a controlled landing in the oceans.\n"
      ]
    },
    {
      "cell_type": "markdown",
      "metadata": {
        "id": "XmkRGtZ6Zb_R"
      },
      "source": [
        "## Objectives\n",
        "\n",
        "Perform exploratory Data Analysis and Feature Engineering using `Pandas` and `Matplotlib`\n",
        "\n",
        "*   Exploratory Data Analysis\n",
        "*   Preparing Data  Feature Engineering\n"
      ]
    },
    {
      "cell_type": "markdown",
      "metadata": {
        "id": "GU7BzfjMZb_R"
      },
      "source": [
        "***\n"
      ]
    },
    {
      "cell_type": "markdown",
      "metadata": {
        "id": "dwu0tB6lZb_S"
      },
      "source": [
        "### Import Libraries and Define Auxiliary Functions\n"
      ]
    },
    {
      "cell_type": "markdown",
      "metadata": {
        "id": "iq4ePugrZb_S"
      },
      "source": [
        "We will import the following libraries the lab\n"
      ]
    },
    {
      "cell_type": "code",
      "execution_count": 61,
      "metadata": {
        "id": "wNCqDG_LZb_S"
      },
      "outputs": [],
      "source": [
        "# andas is a software library written for the Python programming language for data manipulation and analysis.\n",
        "import pandas as pd\n",
        "#NumPy is a library for the Python programming language, adding support for large, multi-dimensional arrays and matrices, along with a large collection of high-level mathematical functions to operate on these arrays\n",
        "import numpy as np\n",
        "# Matplotlib is a plotting library for python and pyplot gives us a MatLab like plotting framework. We will use this in our plotter function to plot data.\n",
        "import matplotlib.pyplot as plt\n",
        "#Seaborn is a Python data visualization library based on matplotlib. It provides a high-level interface for drawing attractive and informative statistical graphics\n",
        "import seaborn as sns\n",
        "%matplotlib inline"
      ]
    },
    {
      "cell_type": "markdown",
      "metadata": {
        "id": "9zZhszfyZb_T"
      },
      "source": [
        "## Exploratory Data Analysis\n"
      ]
    },
    {
      "cell_type": "markdown",
      "metadata": {
        "id": "7ajByn7WZb_T"
      },
      "source": [
        "First, let's read the SpaceX dataset into a Pandas dataframe and print its summary\n"
      ]
    },
    {
      "cell_type": "code",
      "execution_count": 62,
      "metadata": {
        "id": "b3fY5stlZb_T",
        "colab": {
          "base_uri": "https://localhost:8080/",
          "height": 357
        },
        "outputId": "5f066022-2479-4b00-d3cc-e04d746a7f79"
      },
      "outputs": [
        {
          "output_type": "execute_result",
          "data": {
            "text/plain": [
              "   FlightNumber        Date BoosterVersion  PayloadMass Orbit    LaunchSite  \\\n",
              "0             1  2010-06-04       Falcon 9  6104.959412   LEO  CCAFS SLC 40   \n",
              "1             2  2012-05-22       Falcon 9   525.000000   LEO  CCAFS SLC 40   \n",
              "2             3  2013-03-01       Falcon 9   677.000000   ISS  CCAFS SLC 40   \n",
              "3             4  2013-09-29       Falcon 9   500.000000    PO   VAFB SLC 4E   \n",
              "4             5  2013-12-03       Falcon 9  3170.000000   GTO  CCAFS SLC 40   \n",
              "\n",
              "       Outcome  Flights  GridFins  Reused   Legs LandingPad  Block  \\\n",
              "0    None None        1     False   False  False        NaN    1.0   \n",
              "1    None None        1     False   False  False        NaN    1.0   \n",
              "2    None None        1     False   False  False        NaN    1.0   \n",
              "3  False Ocean        1     False   False  False        NaN    1.0   \n",
              "4    None None        1     False   False  False        NaN    1.0   \n",
              "\n",
              "   ReusedCount Serial   Longitude   Latitude  Class  \n",
              "0            0  B0003  -80.577366  28.561857      0  \n",
              "1            0  B0005  -80.577366  28.561857      0  \n",
              "2            0  B0007  -80.577366  28.561857      0  \n",
              "3            0  B1003 -120.610829  34.632093      0  \n",
              "4            0  B1004  -80.577366  28.561857      0  "
            ],
            "text/html": [
              "\n",
              "  <div id=\"df-37e54238-b625-4d2a-8973-cc070dc15f06\">\n",
              "    <div class=\"colab-df-container\">\n",
              "      <div>\n",
              "<style scoped>\n",
              "    .dataframe tbody tr th:only-of-type {\n",
              "        vertical-align: middle;\n",
              "    }\n",
              "\n",
              "    .dataframe tbody tr th {\n",
              "        vertical-align: top;\n",
              "    }\n",
              "\n",
              "    .dataframe thead th {\n",
              "        text-align: right;\n",
              "    }\n",
              "</style>\n",
              "<table border=\"1\" class=\"dataframe\">\n",
              "  <thead>\n",
              "    <tr style=\"text-align: right;\">\n",
              "      <th></th>\n",
              "      <th>FlightNumber</th>\n",
              "      <th>Date</th>\n",
              "      <th>BoosterVersion</th>\n",
              "      <th>PayloadMass</th>\n",
              "      <th>Orbit</th>\n",
              "      <th>LaunchSite</th>\n",
              "      <th>Outcome</th>\n",
              "      <th>Flights</th>\n",
              "      <th>GridFins</th>\n",
              "      <th>Reused</th>\n",
              "      <th>Legs</th>\n",
              "      <th>LandingPad</th>\n",
              "      <th>Block</th>\n",
              "      <th>ReusedCount</th>\n",
              "      <th>Serial</th>\n",
              "      <th>Longitude</th>\n",
              "      <th>Latitude</th>\n",
              "      <th>Class</th>\n",
              "    </tr>\n",
              "  </thead>\n",
              "  <tbody>\n",
              "    <tr>\n",
              "      <th>0</th>\n",
              "      <td>1</td>\n",
              "      <td>2010-06-04</td>\n",
              "      <td>Falcon 9</td>\n",
              "      <td>6104.959412</td>\n",
              "      <td>LEO</td>\n",
              "      <td>CCAFS SLC 40</td>\n",
              "      <td>None None</td>\n",
              "      <td>1</td>\n",
              "      <td>False</td>\n",
              "      <td>False</td>\n",
              "      <td>False</td>\n",
              "      <td>NaN</td>\n",
              "      <td>1.0</td>\n",
              "      <td>0</td>\n",
              "      <td>B0003</td>\n",
              "      <td>-80.577366</td>\n",
              "      <td>28.561857</td>\n",
              "      <td>0</td>\n",
              "    </tr>\n",
              "    <tr>\n",
              "      <th>1</th>\n",
              "      <td>2</td>\n",
              "      <td>2012-05-22</td>\n",
              "      <td>Falcon 9</td>\n",
              "      <td>525.000000</td>\n",
              "      <td>LEO</td>\n",
              "      <td>CCAFS SLC 40</td>\n",
              "      <td>None None</td>\n",
              "      <td>1</td>\n",
              "      <td>False</td>\n",
              "      <td>False</td>\n",
              "      <td>False</td>\n",
              "      <td>NaN</td>\n",
              "      <td>1.0</td>\n",
              "      <td>0</td>\n",
              "      <td>B0005</td>\n",
              "      <td>-80.577366</td>\n",
              "      <td>28.561857</td>\n",
              "      <td>0</td>\n",
              "    </tr>\n",
              "    <tr>\n",
              "      <th>2</th>\n",
              "      <td>3</td>\n",
              "      <td>2013-03-01</td>\n",
              "      <td>Falcon 9</td>\n",
              "      <td>677.000000</td>\n",
              "      <td>ISS</td>\n",
              "      <td>CCAFS SLC 40</td>\n",
              "      <td>None None</td>\n",
              "      <td>1</td>\n",
              "      <td>False</td>\n",
              "      <td>False</td>\n",
              "      <td>False</td>\n",
              "      <td>NaN</td>\n",
              "      <td>1.0</td>\n",
              "      <td>0</td>\n",
              "      <td>B0007</td>\n",
              "      <td>-80.577366</td>\n",
              "      <td>28.561857</td>\n",
              "      <td>0</td>\n",
              "    </tr>\n",
              "    <tr>\n",
              "      <th>3</th>\n",
              "      <td>4</td>\n",
              "      <td>2013-09-29</td>\n",
              "      <td>Falcon 9</td>\n",
              "      <td>500.000000</td>\n",
              "      <td>PO</td>\n",
              "      <td>VAFB SLC 4E</td>\n",
              "      <td>False Ocean</td>\n",
              "      <td>1</td>\n",
              "      <td>False</td>\n",
              "      <td>False</td>\n",
              "      <td>False</td>\n",
              "      <td>NaN</td>\n",
              "      <td>1.0</td>\n",
              "      <td>0</td>\n",
              "      <td>B1003</td>\n",
              "      <td>-120.610829</td>\n",
              "      <td>34.632093</td>\n",
              "      <td>0</td>\n",
              "    </tr>\n",
              "    <tr>\n",
              "      <th>4</th>\n",
              "      <td>5</td>\n",
              "      <td>2013-12-03</td>\n",
              "      <td>Falcon 9</td>\n",
              "      <td>3170.000000</td>\n",
              "      <td>GTO</td>\n",
              "      <td>CCAFS SLC 40</td>\n",
              "      <td>None None</td>\n",
              "      <td>1</td>\n",
              "      <td>False</td>\n",
              "      <td>False</td>\n",
              "      <td>False</td>\n",
              "      <td>NaN</td>\n",
              "      <td>1.0</td>\n",
              "      <td>0</td>\n",
              "      <td>B1004</td>\n",
              "      <td>-80.577366</td>\n",
              "      <td>28.561857</td>\n",
              "      <td>0</td>\n",
              "    </tr>\n",
              "  </tbody>\n",
              "</table>\n",
              "</div>\n",
              "      <button class=\"colab-df-convert\" onclick=\"convertToInteractive('df-37e54238-b625-4d2a-8973-cc070dc15f06')\"\n",
              "              title=\"Convert this dataframe to an interactive table.\"\n",
              "              style=\"display:none;\">\n",
              "        \n",
              "  <svg xmlns=\"http://www.w3.org/2000/svg\" height=\"24px\"viewBox=\"0 0 24 24\"\n",
              "       width=\"24px\">\n",
              "    <path d=\"M0 0h24v24H0V0z\" fill=\"none\"/>\n",
              "    <path d=\"M18.56 5.44l.94 2.06.94-2.06 2.06-.94-2.06-.94-.94-2.06-.94 2.06-2.06.94zm-11 1L8.5 8.5l.94-2.06 2.06-.94-2.06-.94L8.5 2.5l-.94 2.06-2.06.94zm10 10l.94 2.06.94-2.06 2.06-.94-2.06-.94-.94-2.06-.94 2.06-2.06.94z\"/><path d=\"M17.41 7.96l-1.37-1.37c-.4-.4-.92-.59-1.43-.59-.52 0-1.04.2-1.43.59L10.3 9.45l-7.72 7.72c-.78.78-.78 2.05 0 2.83L4 21.41c.39.39.9.59 1.41.59.51 0 1.02-.2 1.41-.59l7.78-7.78 2.81-2.81c.8-.78.8-2.07 0-2.86zM5.41 20L4 18.59l7.72-7.72 1.47 1.35L5.41 20z\"/>\n",
              "  </svg>\n",
              "      </button>\n",
              "      \n",
              "  <style>\n",
              "    .colab-df-container {\n",
              "      display:flex;\n",
              "      flex-wrap:wrap;\n",
              "      gap: 12px;\n",
              "    }\n",
              "\n",
              "    .colab-df-convert {\n",
              "      background-color: #E8F0FE;\n",
              "      border: none;\n",
              "      border-radius: 50%;\n",
              "      cursor: pointer;\n",
              "      display: none;\n",
              "      fill: #1967D2;\n",
              "      height: 32px;\n",
              "      padding: 0 0 0 0;\n",
              "      width: 32px;\n",
              "    }\n",
              "\n",
              "    .colab-df-convert:hover {\n",
              "      background-color: #E2EBFA;\n",
              "      box-shadow: 0px 1px 2px rgba(60, 64, 67, 0.3), 0px 1px 3px 1px rgba(60, 64, 67, 0.15);\n",
              "      fill: #174EA6;\n",
              "    }\n",
              "\n",
              "    [theme=dark] .colab-df-convert {\n",
              "      background-color: #3B4455;\n",
              "      fill: #D2E3FC;\n",
              "    }\n",
              "\n",
              "    [theme=dark] .colab-df-convert:hover {\n",
              "      background-color: #434B5C;\n",
              "      box-shadow: 0px 1px 3px 1px rgba(0, 0, 0, 0.15);\n",
              "      filter: drop-shadow(0px 1px 2px rgba(0, 0, 0, 0.3));\n",
              "      fill: #FFFFFF;\n",
              "    }\n",
              "  </style>\n",
              "\n",
              "      <script>\n",
              "        const buttonEl =\n",
              "          document.querySelector('#df-37e54238-b625-4d2a-8973-cc070dc15f06 button.colab-df-convert');\n",
              "        buttonEl.style.display =\n",
              "          google.colab.kernel.accessAllowed ? 'block' : 'none';\n",
              "\n",
              "        async function convertToInteractive(key) {\n",
              "          const element = document.querySelector('#df-37e54238-b625-4d2a-8973-cc070dc15f06');\n",
              "          const dataTable =\n",
              "            await google.colab.kernel.invokeFunction('convertToInteractive',\n",
              "                                                     [key], {});\n",
              "          if (!dataTable) return;\n",
              "\n",
              "          const docLinkHtml = 'Like what you see? Visit the ' +\n",
              "            '<a target=\"_blank\" href=https://colab.research.google.com/notebooks/data_table.ipynb>data table notebook</a>'\n",
              "            + ' to learn more about interactive tables.';\n",
              "          element.innerHTML = '';\n",
              "          dataTable['output_type'] = 'display_data';\n",
              "          await google.colab.output.renderOutput(dataTable, element);\n",
              "          const docLink = document.createElement('div');\n",
              "          docLink.innerHTML = docLinkHtml;\n",
              "          element.appendChild(docLink);\n",
              "        }\n",
              "      </script>\n",
              "    </div>\n",
              "  </div>\n",
              "  "
            ]
          },
          "metadata": {},
          "execution_count": 62
        }
      ],
      "source": [
        "df=pd.read_csv(\"https://cf-courses-data.s3.us.cloud-object-storage.appdomain.cloud/IBM-DS0321EN-SkillsNetwork/datasets/dataset_part_2.csv\")\n",
        "\n",
        "# If you were unable to complete the previous lab correctly you can uncomment and load this csv\n",
        "\n",
        "# df = pd.read_csv('https://cf-courses-data.s3.us.cloud-object-storage.appdomain.cloud/IBMDeveloperSkillsNetwork-DS0701EN-SkillsNetwork/api/dataset_part_2.csv')\n",
        "\n",
        "df.head(5)"
      ]
    },
    {
      "cell_type": "markdown",
      "metadata": {
        "id": "64Wpa8RrZb_T"
      },
      "source": [
        "First, let's try to see how the `FlightNumber` (indicating the continuous launch attempts.) and `Payload` variables would affect the launch outcome.\n",
        "\n",
        "We can plot out the <code>FlightNumber</code> vs. <code>PayloadMass</code>and overlay the outcome of the launch. We see that as the flight number increases, the first stage is more likely to land successfully. The payload mass is also important; it seems the more massive the payload, the less likely the first stage will return.\n"
      ]
    },
    {
      "cell_type": "code",
      "execution_count": 63,
      "metadata": {
        "colab": {
          "base_uri": "https://localhost:8080/",
          "height": 243
        },
        "id": "0ljAVOrPZb_T",
        "outputId": "1df1e81f-b2bf-4674-8c77-b66f71eea2bf"
      },
      "outputs": [
        {
          "output_type": "display_data",
          "data": {
            "text/plain": [
              "<Figure size 1842.38x360 with 1 Axes>"
            ],
            "image/png": "[encoded data removed]"
          },
          "metadata": {
            "needs_background": "light"
          }
        }
      ],
      "source": [
        "sns.catplot(y=\"PayloadMass\", x=\"FlightNumber\", hue=\"Class\", data=df, aspect = 5)\n",
        "plt.xlabel(\"Flight Number\",fontsize=20)\n",
        "plt.ylabel(\"Pay load Mass (kg)\",fontsize=20)\n",
        "plt.show()"
      ]
    },
    {
      "cell_type": "markdown",
      "metadata": {
        "id": "zHP9tWr8Zb_U"
      },
      "source": [
        "We see that different launch sites have different success rates.  <code>CCAFS LC-40</code>, has a success rate of 60 %, while  <code>KSC LC-39A</code> and <code>VAFB SLC 4E</code> has a success rate of 77%.\n"
      ]
    },
    {
      "cell_type": "markdown",
      "metadata": {
        "id": "12lqbCSuZb_U"
      },
      "source": [
        "Next, let's drill down to each site visualize its detailed launch records.\n"
      ]
    },
    {
      "cell_type": "markdown",
      "metadata": {
        "id": "M5WOl9r1Zb_U"
      },
      "source": [
        "### TASK 1: Visualize the relationship between Flight Number and Launch Site\n"
      ]
    },
    {
      "cell_type": "markdown",
      "metadata": {
        "id": "t9rZ_4qxZb_U"
      },
      "source": [
        "Use the function <code>catplot</code> to plot <code>FlightNumber</code> vs <code>LaunchSite</code>, set the  parameter <code>x</code>  parameter to <code>FlightNumber</code>,set the  <code>y</code> to <code>Launch Site</code> and set the parameter <code>hue</code> to <code>'class'</code>\n"
      ]
    },
    {
      "cell_type": "code",
      "execution_count": 64,
      "metadata": {
        "colab": {
          "base_uri": "https://localhost:8080/",
          "height": 241
        },
        "id": "9IhqFHCwZb_U",
        "outputId": "38e57cfa-6134-4331-ae5d-0462bf142f7b"
      },
      "outputs": [
        {
          "output_type": "display_data",
          "data": {
            "text/plain": [
              "<Figure size 1842.38x360 with 1 Axes>"
            ],
            "image/png": "[encoded data removed]"
          },
          "metadata": {
            "needs_background": "light"
          }
        }
      ],
      "source": [
        "# Plot a scatter point chart with x axis to be Flight Number and y axis to be the launch site, and hue to be the class value\n",
        "sns.catplot(y = 'LaunchSite', x = 'FlightNumber', hue = 'Class', data = df, aspect = 5)\n",
        "plt.xlabel('Flight Number', fontsize = 15)\n",
        "plt.ylabel('Launch Site', fontsize = 15)\n",
        "plt.show()"
      ]
    },
    {
      "cell_type": "markdown",
      "metadata": {
        "id": "7Fpxcr61Zb_U"
      },
      "source": [
        "Now try to explain the patterns you found in the Flight Number vs. Launch Site scatter point plots.\n"
      ]
    },
    {
      "cell_type": "markdown",
      "metadata": {
        "id": "e2r4lmiUZb_V"
      },
      "source": [
        "### TASK 2: Visualize the relationship between Payload and Launch Site\n"
      ]
    },
    {
      "cell_type": "markdown",
      "metadata": {
        "id": "ygSfY84UZb_V"
      },
      "source": [
        "We also want to observe if there is any relationship between launch sites and their payload mass.\n"
      ]
    },
    {
      "cell_type": "code",
      "source": [
        "df.columns"
      ],
      "metadata": {
        "colab": {
          "base_uri": "https://localhost:8080/"
        },
        "id": "UIlsrAHxfHXW",
        "outputId": "b37d7c81-a181-4c1f-e01f-e20e9274b98c"
      },
      "execution_count": 65,
      "outputs": [
        {
          "output_type": "execute_result",
          "data": {
            "text/plain": [
              "Index(['FlightNumber', 'Date', 'BoosterVersion', 'PayloadMass', 'Orbit',\n",
              "       'LaunchSite', 'Outcome', 'Flights', 'GridFins', 'Reused', 'Legs',\n",
              "       'LandingPad', 'Block', 'ReusedCount', 'Serial', 'Longitude', 'Latitude',\n",
              "       'Class'],\n",
              "      dtype='object')"
            ]
          },
          "metadata": {},
          "execution_count": 65
        }
      ]
    },
    {
      "cell_type": "code",
      "execution_count": 66,
      "metadata": {
        "colab": {
          "base_uri": "https://localhost:8080/",
          "height": 296
        },
        "id": "GP4MutYcZb_V",
        "outputId": "68378572-a94c-40b2-f2e5-591f554708d5"
      },
      "outputs": [
        {
          "output_type": "display_data",
          "data": {
            "text/plain": [
              "<Figure size 1482.38x360 with 1 Axes>"
            ],
            "image/png": "[encoded data removed]"
          },
          "metadata": {
            "needs_background": "light"
          }
        }
      ],
      "source": [
        "# Plot a scatter point chart with x axis to be Pay Load Mass (kg) and y axis to be the launch site, and hue to be the class value\n",
        "sns.catplot(x = \"PayloadMass\", y = \"LaunchSite\", hue = 'Class', data = df, aspect = 4)\n",
        "plt.xlabel('PayloadMass', fontsize = 15)\n",
        "plt.ylabel(\"Launch Site\", fontsize = 15)\n",
        "plt.show()"
      ]
    },
    {
      "cell_type": "markdown",
      "metadata": {
        "id": "NFUjsW8xZb_V"
      },
      "source": [
        "Now if you observe Payload Vs. Launch Site scatter point chart you will find for the VAFB-SLC  launchsite there are no  rockets  launched for  heavypayload mass(greater than 10000).\n"
      ]
    },
    {
      "cell_type": "markdown",
      "metadata": {
        "id": "ym4357FwZb_V"
      },
      "source": [
        "### TASK  3: Visualize the relationship between success rate of each orbit type\n"
      ]
    },
    {
      "cell_type": "markdown",
      "metadata": {
        "id": "L_zh0ioTZb_V"
      },
      "source": [
        "Next, we want to visually check if there are any relationship between success rate and orbit type.\n"
      ]
    },
    {
      "cell_type": "markdown",
      "metadata": {
        "id": "SECaJOrEZb_V"
      },
      "source": [
        "Let's create a `bar chart` for the sucess rate of each orbit\n"
      ]
    },
    {
      "cell_type": "code",
      "execution_count": 67,
      "metadata": {
        "colab": {
          "base_uri": "https://localhost:8080/",
          "height": 279
        },
        "id": "4mag6K1DZb_W",
        "outputId": "8c0e28f1-e83e-4582-fc0b-a605921b2ead"
      },
      "outputs": [
        {
          "output_type": "display_data",
          "data": {
            "text/plain": [
              "<Figure size 432x288 with 1 Axes>"
            ],
            "image/png": "[encoded data removed]"
          },
          "metadata": {
            "needs_background": "light"
          }
        }
      ],
      "source": [
        "# HINT use groupby method on Orbit column and get the mean of Class column\n",
        "df_success_rate = df.groupby(['Orbit'], as_index= False)['Class'].mean()\n",
        "sns.barplot(x = 'Orbit', y = 'Class', data= df_success_rate)\n",
        "plt.xlabel('Orbit')\n",
        "plt.ylabel ('Class mean value')\n",
        "plt.show()"
      ]
    },
    {
      "cell_type": "markdown",
      "metadata": {
        "id": "OAMjYBdWZb_W"
      },
      "source": [
        "Analyze the ploted bar chart try to find which orbits have high sucess rate.\n"
      ]
    },
    {
      "cell_type": "markdown",
      "metadata": {
        "id": "w7TfWWtiZb_W"
      },
      "source": [
        "### TASK  4: Visualize the relationship between FlightNumber and Orbit type\n"
      ]
    },
    {
      "cell_type": "markdown",
      "metadata": {
        "id": "QQMHqTZRZb_W"
      },
      "source": [
        "For each orbit, we want to see if there is any relationship between FlightNumber and Orbit type.\n"
      ]
    },
    {
      "cell_type": "code",
      "execution_count": 68,
      "metadata": {
        "colab": {
          "base_uri": "https://localhost:8080/",
          "height": 296
        },
        "id": "0aQbwo7UZb_W",
        "outputId": "4e61a0fb-8b53-4f9f-ec39-ae55f40147b9"
      },
      "outputs": [
        {
          "output_type": "execute_result",
          "data": {
            "text/plain": [
              "Text(0, 0.5, 'Orbit')"
            ]
          },
          "metadata": {},
          "execution_count": 68
        },
        {
          "output_type": "display_data",
          "data": {
            "text/plain": [
              "<Figure size 432x288 with 1 Axes>"
            ],
            "image/png": "[encoded data removed]"
          },
          "metadata": {
            "needs_background": "light"
          }
        }
      ],
      "source": [
        "# Plot a scatter point chart with x axis to be FlightNumber and y axis to be the Orbit, and hue to be the class value\n",
        "sns.scatterplot(x='FlightNumber', y='Orbit', hue='Class', data=df)\n",
        "plt.xlabel('FlightNumber')\n",
        "plt.ylabel(\"Orbit\")"
      ]
    },
    {
      "cell_type": "markdown",
      "metadata": {
        "id": "Pi9l75DWZb_W"
      },
      "source": [
        "You should see that in the LEO orbit the Success appears related to the number of flights; on the other hand, there seems to be no relationship between flight number when in GTO orbit.\n"
      ]
    },
    {
      "cell_type": "markdown",
      "metadata": {
        "id": "QfTLSMX1Zb_W"
      },
      "source": [
        "### TASK  5: Visualize the relationship between Payload and Orbit type\n"
      ]
    },
    {
      "cell_type": "markdown",
      "metadata": {
        "id": "M-gRjtWkZb_X"
      },
      "source": [
        "Similarly, we can plot the Payload vs. Orbit scatter point charts to reveal the relationship between Payload and Orbit type\n"
      ]
    },
    {
      "cell_type": "code",
      "execution_count": 69,
      "metadata": {
        "id": "b8PfVyVJZb_X",
        "colab": {
          "base_uri": "https://localhost:8080/",
          "height": 279
        },
        "outputId": "65e5e5a8-512a-4ca8-c2fe-ab8aa868bafe"
      },
      "outputs": [
        {
          "output_type": "display_data",
          "data": {
            "text/plain": [
              "<Figure size 432x288 with 1 Axes>"
            ],
            "image/png": "[encoded data removed]"
          },
          "metadata": {
            "needs_background": "light"
          }
        }
      ],
      "source": [
        "# Plot a scatter point chart with x axis to be Payload and y axis to be the Orbit, and hue to be the class value\n",
        "sns.scatterplot(x = 'PayloadMass', y = 'Orbit', hue = 'Class', data = df)\n",
        "plt.xlabel('PayloadMass')\n",
        "plt.ylabel('Orbit')\n",
        "plt.show()"
      ]
    },
    {
      "cell_type": "markdown",
      "metadata": {
        "id": "MGC3gQVNZb_X"
      },
      "source": [
        "With heavy payloads the successful landing or positive landing rate are more for Polar,LEO and ISS.\n",
        "\n",
        "However for GTO we cannot distinguish this well as both positive landing rate and negative landing(unsuccessful mission) are both there here.\n"
      ]
    },
    {
      "cell_type": "markdown",
      "metadata": {
        "id": "Tfhy_kpbZb_X"
      },
      "source": [
        "### TASK  6: Visualize the launch success yearly trend\n"
      ]
    },
    {
      "cell_type": "markdown",
      "metadata": {
        "id": "EIfHLNuCZb_X"
      },
      "source": [
        "You can plot a line chart with x axis to be <code>Year</code> and y axis to be average success rate, to get the average launch success trend.\n"
      ]
    },
    {
      "cell_type": "markdown",
      "metadata": {
        "id": "pGM1VS1wZb_X"
      },
      "source": [
        "The function will help you get the year from the date:\n"
      ]
    },
    {
      "cell_type": "code",
      "execution_count": 70,
      "metadata": {
        "id": "f0Z2F5XmZb_X"
      },
      "outputs": [],
      "source": [
        "# A function to Extract years from the date \n",
        "year=[]\n",
        "def Extract_year(date):\n",
        "    for i in df[\"Date\"]:\n",
        "        year.append(i.split(\"-\")[0])\n",
        "    return year\n",
        "    \n",
        "extracted_years = Extract_year(df['Date'])"
      ]
    },
    {
      "cell_type": "code",
      "execution_count": 71,
      "metadata": {
        "id": "05m48hptZb_X",
        "colab": {
          "base_uri": "https://localhost:8080/",
          "height": 279
        },
        "outputId": "9e153cb1-af30-4a3a-df00-9f5712b1be6d"
      },
      "outputs": [
        {
          "output_type": "display_data",
          "data": {
            "text/plain": [
              "<Figure size 432x288 with 1 Axes>"
            ],
            "image/png": "[encoded data removed]"
          },
          "metadata": {
            "needs_background": "light"
          }
        }
      ],
      "source": [
        "# Plot a line chart with x axis to be the extracted year and y axis to be the success rate\n",
        "sns.lineplot(x =extracted_years, y = df['Class'])\n",
        "plt.xlabel ('Year')\n",
        "plt.ylabel ('Class')\n",
        "plt.show()"
      ]
    },
    {
      "cell_type": "markdown",
      "metadata": {
        "id": "5XQS02IXZb_Y"
      },
      "source": [
        "you can observe that the sucess rate since 2013 kept increasing till 2020\n"
      ]
    },
    {
      "cell_type": "markdown",
      "metadata": {
        "id": "mDXa_z6IZb_Y"
      },
      "source": [
        "## Features Engineering\n"
      ]
    },
    {
      "cell_type": "markdown",
      "metadata": {
        "id": "7l38CMBMZb_Y"
      },
      "source": [
        "By now, you should obtain some preliminary insights about how each important variable would affect the success rate, we will select the features that will be used in success prediction in the future module.\n"
      ]
    },
    {
      "cell_type": "code",
      "execution_count": 72,
      "metadata": {
        "id": "ePvsCF_6Zb_Y",
        "colab": {
          "base_uri": "https://localhost:8080/",
          "height": 206
        },
        "outputId": "eda6b53d-01cb-4b2d-efbd-93bb4cc19e4c"
      },
      "outputs": [
        {
          "output_type": "execute_result",
          "data": {
            "text/plain": [
              "   FlightNumber  PayloadMass Orbit    LaunchSite  Flights  GridFins  Reused  \\\n",
              "0             1  6104.959412   LEO  CCAFS SLC 40        1     False   False   \n",
              "1             2   525.000000   LEO  CCAFS SLC 40        1     False   False   \n",
              "2             3   677.000000   ISS  CCAFS SLC 40        1     False   False   \n",
              "3             4   500.000000    PO   VAFB SLC 4E        1     False   False   \n",
              "4             5  3170.000000   GTO  CCAFS SLC 40        1     False   False   \n",
              "\n",
              "    Legs LandingPad  Block  ReusedCount Serial  \n",
              "0  False        NaN    1.0            0  B0003  \n",
              "1  False        NaN    1.0            0  B0005  \n",
              "2  False        NaN    1.0            0  B0007  \n",
              "3  False        NaN    1.0            0  B1003  \n",
              "4  False        NaN    1.0            0  B1004  "
            ],
            "text/html": [
              "\n",
              "  <div id=\"df-650d005d-5336-4c73-a9cf-e3ba2bedf388\">\n",
              "    <div class=\"colab-df-container\">\n",
              "      <div>\n",
              "<style scoped>\n",
              "    .dataframe tbody tr th:only-of-type {\n",
              "        vertical-align: middle;\n",
              "    }\n",
              "\n",
              "    .dataframe tbody tr th {\n",
              "        vertical-align: top;\n",
              "    }\n",
              "\n",
              "    .dataframe thead th {\n",
              "        text-align: right;\n",
              "    }\n",
              "</style>\n",
              "<table border=\"1\" class=\"dataframe\">\n",
              "  <thead>\n",
              "    <tr style=\"text-align: right;\">\n",
              "      <th></th>\n",
              "      <th>FlightNumber</th>\n",
              "      <th>PayloadMass</th>\n",
              "      <th>Orbit</th>\n",
              "      <th>LaunchSite</th>\n",
              "      <th>Flights</th>\n",
              "      <th>GridFins</th>\n",
              "      <th>Reused</th>\n",
              "      <th>Legs</th>\n",
              "      <th>LandingPad</th>\n",
              "      <th>Block</th>\n",
              "      <th>ReusedCount</th>\n",
              "      <th>Serial</th>\n",
              "    </tr>\n",
              "  </thead>\n",
              "  <tbody>\n",
              "    <tr>\n",
              "      <th>0</th>\n",
              "      <td>1</td>\n",
              "      <td>6104.959412</td>\n",
              "      <td>LEO</td>\n",
              "      <td>CCAFS SLC 40</td>\n",
              "      <td>1</td>\n",
              "      <td>False</td>\n",
              "      <td>False</td>\n",
              "      <td>False</td>\n",
              "      <td>NaN</td>\n",
              "      <td>1.0</td>\n",
              "      <td>0</td>\n",
              "      <td>B0003</td>\n",
              "    </tr>\n",
              "    <tr>\n",
              "      <th>1</th>\n",
              "      <td>2</td>\n",
              "      <td>525.000000</td>\n",
              "      <td>LEO</td>\n",
              "      <td>CCAFS SLC 40</td>\n",
              "      <td>1</td>\n",
              "      <td>False</td>\n",
              "      <td>False</td>\n",
              "      <td>False</td>\n",
              "      <td>NaN</td>\n",
              "      <td>1.0</td>\n",
              "      <td>0</td>\n",
              "      <td>B0005</td>\n",
              "    </tr>\n",
              "    <tr>\n",
              "      <th>2</th>\n",
              "      <td>3</td>\n",
              "      <td>677.000000</td>\n",
              "      <td>ISS</td>\n",
              "      <td>CCAFS SLC 40</td>\n",
              "      <td>1</td>\n",
              "      <td>False</td>\n",
              "      <td>False</td>\n",
              "      <td>False</td>\n",
              "      <td>NaN</td>\n",
              "      <td>1.0</td>\n",
              "      <td>0</td>\n",
              "      <td>B0007</td>\n",
              "    </tr>\n",
              "    <tr>\n",
              "      <th>3</th>\n",
              "      <td>4</td>\n",
              "      <td>500.000000</td>\n",
              "      <td>PO</td>\n",
              "      <td>VAFB SLC 4E</td>\n",
              "      <td>1</td>\n",
              "      <td>False</td>\n",
              "      <td>False</td>\n",
              "      <td>False</td>\n",
              "      <td>NaN</td>\n",
              "      <td>1.0</td>\n",
              "      <td>0</td>\n",
              "      <td>B1003</td>\n",
              "    </tr>\n",
              "    <tr>\n",
              "      <th>4</th>\n",
              "      <td>5</td>\n",
              "      <td>3170.000000</td>\n",
              "      <td>GTO</td>\n",
              "      <td>CCAFS SLC 40</td>\n",
              "      <td>1</td>\n",
              "      <td>False</td>\n",
              "      <td>False</td>\n",
              "      <td>False</td>\n",
              "      <td>NaN</td>\n",
              "      <td>1.0</td>\n",
              "      <td>0</td>\n",
              "      <td>B1004</td>\n",
              "    </tr>\n",
              "  </tbody>\n",
              "</table>\n",
              "</div>\n",
              "      <button class=\"colab-df-convert\" onclick=\"convertToInteractive('df-650d005d-5336-4c73-a9cf-e3ba2bedf388')\"\n",
              "              title=\"Convert this dataframe to an interactive table.\"\n",
              "              style=\"display:none;\">\n",
              "        \n",
              "  <svg xmlns=\"http://www.w3.org/2000/svg\" height=\"24px\"viewBox=\"0 0 24 24\"\n",
              "       width=\"24px\">\n",
              "    <path d=\"M0 0h24v24H0V0z\" fill=\"none\"/>\n",
              "    <path d=\"M18.56 5.44l.94 2.06.94-2.06 2.06-.94-2.06-.94-.94-2.06-.94 2.06-2.06.94zm-11 1L8.5 8.5l.94-2.06 2.06-.94-2.06-.94L8.5 2.5l-.94 2.06-2.06.94zm10 10l.94 2.06.94-2.06 2.06-.94-2.06-.94-.94-2.06-.94 2.06-2.06.94z\"/><path d=\"M17.41 7.96l-1.37-1.37c-.4-.4-.92-.59-1.43-.59-.52 0-1.04.2-1.43.59L10.3 9.45l-7.72 7.72c-.78.78-.78 2.05 0 2.83L4 21.41c.39.39.9.59 1.41.59.51 0 1.02-.2 1.41-.59l7.78-7.78 2.81-2.81c.8-.78.8-2.07 0-2.86zM5.41 20L4 18.59l7.72-7.72 1.47 1.35L5.41 20z\"/>\n",
              "  </svg>\n",
              "      </button>\n",
              "      \n",
              "  <style>\n",
              "    .colab-df-container {\n",
              "      display:flex;\n",
              "      flex-wrap:wrap;\n",
              "      gap: 12px;\n",
              "    }\n",
              "\n",
              "    .colab-df-convert {\n",
              "      background-color: #E8F0FE;\n",
              "      border: none;\n",
              "      border-radius: 50%;\n",
              "      cursor: pointer;\n",
              "      display: none;\n",
              "      fill: #1967D2;\n",
              "      height: 32px;\n",
              "      padding: 0 0 0 0;\n",
              "      width: 32px;\n",
              "    }\n",
              "\n",
              "    .colab-df-convert:hover {\n",
              "      background-color: #E2EBFA;\n",
              "      box-shadow: 0px 1px 2px rgba(60, 64, 67, 0.3), 0px 1px 3px 1px rgba(60, 64, 67, 0.15);\n",
              "      fill: #174EA6;\n",
              "    }\n",
              "\n",
              "    [theme=dark] .colab-df-convert {\n",
              "      background-color: #3B4455;\n",
              "      fill: #D2E3FC;\n",
              "    }\n",
              "\n",
              "    [theme=dark] .colab-df-convert:hover {\n",
              "      background-color: #434B5C;\n",
              "      box-shadow: 0px 1px 3px 1px rgba(0, 0, 0, 0.15);\n",
              "      filter: drop-shadow(0px 1px 2px rgba(0, 0, 0, 0.3));\n",
              "      fill: #FFFFFF;\n",
              "    }\n",
              "  </style>\n",
              "\n",
              "      <script>\n",
              "        const buttonEl =\n",
              "          document.querySelector('#df-650d005d-5336-4c73-a9cf-e3ba2bedf388 button.colab-df-convert');\n",
              "        buttonEl.style.display =\n",
              "          google.colab.kernel.accessAllowed ? 'block' : 'none';\n",
              "\n",
              "        async function convertToInteractive(key) {\n",
              "          const element = document.querySelector('#df-650d005d-5336-4c73-a9cf-e3ba2bedf388');\n",
              "          const dataTable =\n",
              "            await google.colab.kernel.invokeFunction('convertToInteractive',\n",
              "                                                     [key], {});\n",
              "          if (!dataTable) return;\n",
              "\n",
              "          const docLinkHtml = 'Like what you see? Visit the ' +\n",
              "            '<a target=\"_blank\" href=https://colab.research.google.com/notebooks/data_table.ipynb>data table notebook</a>'\n",
              "            + ' to learn more about interactive tables.';\n",
              "          element.innerHTML = '';\n",
              "          dataTable['output_type'] = 'display_data';\n",
              "          await google.colab.output.renderOutput(dataTable, element);\n",
              "          const docLink = document.createElement('div');\n",
              "          docLink.innerHTML = docLinkHtml;\n",
              "          element.appendChild(docLink);\n",
              "        }\n",
              "      </script>\n",
              "    </div>\n",
              "  </div>\n",
              "  "
            ]
          },
          "metadata": {},
          "execution_count": 72
        }
      ],
      "source": [
        "features = df[['FlightNumber', 'PayloadMass', 'Orbit', 'LaunchSite', 'Flights', 'GridFins', 'Reused', 'Legs', 'LandingPad', 'Block', 'ReusedCount', 'Serial']]\n",
        "features.head()"
      ]
    },
    {
      "cell_type": "markdown",
      "metadata": {
        "id": "54dAPWlWZb_Y"
      },
      "source": [
        "### TASK  7: Create dummy variables to categorical columns\n"
      ]
    },
    {
      "cell_type": "markdown",
      "metadata": {
        "id": "LHUwW2G8Zb_Y"
      },
      "source": [
        "Use the function <code>get_dummies</code> and <code>features</code> dataframe to apply OneHotEncoder to the column <code>Orbits</code>, <code>LaunchSite</code>, <code>LandingPad</code>, and <code>Serial</code>. Assign the value to the variable <code>features_one_hot</code>, display the results using the method head. Your result dataframe must include all features including the encoded ones.\n"
      ]
    },
    {
      "cell_type": "code",
      "source": [
        "features.dtypes"
      ],
      "metadata": {
        "colab": {
          "base_uri": "https://localhost:8080/"
        },
        "id": "DuLc6LZToxod",
        "outputId": "562ca039-68a4-4ae9-c4c3-2e1839d886ac"
      },
      "execution_count": 73,
      "outputs": [
        {
          "output_type": "execute_result",
          "data": {
            "text/plain": [
              "FlightNumber      int64\n",
              "PayloadMass     float64\n",
              "Orbit            object\n",
              "LaunchSite       object\n",
              "Flights           int64\n",
              "GridFins           bool\n",
              "Reused             bool\n",
              "Legs               bool\n",
              "LandingPad       object\n",
              "Block           float64\n",
              "ReusedCount       int64\n",
              "Serial           object\n",
              "dtype: object"
            ]
          },
          "metadata": {},
          "execution_count": 73
        }
      ]
    },
    {
      "cell_type": "code",
      "execution_count": 74,
      "metadata": {
        "id": "bnAQOPJiZb_Y"
      },
      "outputs": [],
      "source": [
        "# HINT: Use get_dummies() function on the categorical columns\n",
        "def get_dummies(df):\n",
        "    dummies = pd.get_dummies(features, columns=['Orbit', 'LaunchSite', 'LandingPad', 'Serial'])\n",
        "    return dummies\n",
        "    \n",
        "features_one_hot = get_dummies(df)"
      ]
    },
    {
      "cell_type": "code",
      "source": [
        "features_one_hot.head().style"
      ],
      "metadata": {
        "colab": {
          "base_uri": "https://localhost:8080/",
          "height": 243
        },
        "id": "MmHUArN8ocT5",
        "outputId": "d0ee3d32-1f2e-4930-f7fc-f848448a6c46"
      },
      "execution_count": 75,
      "outputs": [
        {
          "output_type": "execute_result",
          "data": {
            "text/plain": [
              "<pandas.io.formats.style.Styler at 0x7f43b57ece50>"
            ],
            "text/html": [
              "<style type=\"text/css\">\n",
              "</style>\n",
              "<table id=\"T_bb9a3_\" class=\"dataframe\">\n",
              "  <thead>\n",
              "    <tr>\n",
              "      <th class=\"blank level0\" >&nbsp;</th>\n",
              "      <th class=\"col_heading level0 col0\" >FlightNumber</th>\n",
              "      <th class=\"col_heading level0 col1\" >PayloadMass</th>\n",
              "      <th class=\"col_heading level0 col2\" >Flights</th>\n",
              "      <th class=\"col_heading level0 col3\" >GridFins</th>\n",
              "      <th class=\"col_heading level0 col4\" >Reused</th>\n",
              "      <th class=\"col_heading level0 col5\" >Legs</th>\n",
              "      <th class=\"col_heading level0 col6\" >Block</th>\n",
              "      <th class=\"col_heading level0 col7\" >ReusedCount</th>\n",
              "      <th class=\"col_heading level0 col8\" >Orbit_ES-L1</th>\n",
              "      <th class=\"col_heading level0 col9\" >Orbit_GEO</th>\n",
              "      <th class=\"col_heading level0 col10\" >Orbit_GTO</th>\n",
              "      <th class=\"col_heading level0 col11\" >Orbit_HEO</th>\n",
              "      <th class=\"col_heading level0 col12\" >Orbit_ISS</th>\n",
              "      <th class=\"col_heading level0 col13\" >Orbit_LEO</th>\n",
              "      <th class=\"col_heading level0 col14\" >Orbit_MEO</th>\n",
              "      <th class=\"col_heading level0 col15\" >Orbit_PO</th>\n",
              "      <th class=\"col_heading level0 col16\" >Orbit_SO</th>\n",
              "      <th class=\"col_heading level0 col17\" >Orbit_SSO</th>\n",
              "      <th class=\"col_heading level0 col18\" >Orbit_VLEO</th>\n",
              "      <th class=\"col_heading level0 col19\" >LaunchSite_CCAFS SLC 40</th>\n",
              "      <th class=\"col_heading level0 col20\" >LaunchSite_KSC LC 39A</th>\n",
              "      <th class=\"col_heading level0 col21\" >LaunchSite_VAFB SLC 4E</th>\n",
              "      <th class=\"col_heading level0 col22\" >LandingPad_5e9e3032383ecb267a34e7c7</th>\n",
              "      <th class=\"col_heading level0 col23\" >LandingPad_5e9e3032383ecb554034e7c9</th>\n",
              "      <th class=\"col_heading level0 col24\" >LandingPad_5e9e3032383ecb6bb234e7ca</th>\n",
              "      <th class=\"col_heading level0 col25\" >LandingPad_5e9e3032383ecb761634e7cb</th>\n",
              "      <th class=\"col_heading level0 col26\" >LandingPad_5e9e3033383ecbb9e534e7cc</th>\n",
              "      <th class=\"col_heading level0 col27\" >Serial_B0003</th>\n",
              "      <th class=\"col_heading level0 col28\" >Serial_B0005</th>\n",
              "      <th class=\"col_heading level0 col29\" >Serial_B0007</th>\n",
              "      <th class=\"col_heading level0 col30\" >Serial_B1003</th>\n",
              "      <th class=\"col_heading level0 col31\" >Serial_B1004</th>\n",
              "      <th class=\"col_heading level0 col32\" >Serial_B1005</th>\n",
              "      <th class=\"col_heading level0 col33\" >Serial_B1006</th>\n",
              "      <th class=\"col_heading level0 col34\" >Serial_B1007</th>\n",
              "      <th class=\"col_heading level0 col35\" >Serial_B1008</th>\n",
              "      <th class=\"col_heading level0 col36\" >Serial_B1010</th>\n",
              "      <th class=\"col_heading level0 col37\" >Serial_B1011</th>\n",
              "      <th class=\"col_heading level0 col38\" >Serial_B1012</th>\n",
              "      <th class=\"col_heading level0 col39\" >Serial_B1013</th>\n",
              "      <th class=\"col_heading level0 col40\" >Serial_B1015</th>\n",
              "      <th class=\"col_heading level0 col41\" >Serial_B1016</th>\n",
              "      <th class=\"col_heading level0 col42\" >Serial_B1017</th>\n",
              "      <th class=\"col_heading level0 col43\" >Serial_B1018</th>\n",
              "      <th class=\"col_heading level0 col44\" >Serial_B1019</th>\n",
              "      <th class=\"col_heading level0 col45\" >Serial_B1020</th>\n",
              "      <th class=\"col_heading level0 col46\" >Serial_B1021</th>\n",
              "      <th class=\"col_heading level0 col47\" >Serial_B1022</th>\n",
              "      <th class=\"col_heading level0 col48\" >Serial_B1023</th>\n",
              "      <th class=\"col_heading level0 col49\" >Serial_B1025</th>\n",
              "      <th class=\"col_heading level0 col50\" >Serial_B1026</th>\n",
              "      <th class=\"col_heading level0 col51\" >Serial_B1028</th>\n",
              "      <th class=\"col_heading level0 col52\" >Serial_B1029</th>\n",
              "      <th class=\"col_heading level0 col53\" >Serial_B1030</th>\n",
              "      <th class=\"col_heading level0 col54\" >Serial_B1031</th>\n",
              "      <th class=\"col_heading level0 col55\" >Serial_B1032</th>\n",
              "      <th class=\"col_heading level0 col56\" >Serial_B1034</th>\n",
              "      <th class=\"col_heading level0 col57\" >Serial_B1035</th>\n",
              "      <th class=\"col_heading level0 col58\" >Serial_B1036</th>\n",
              "      <th class=\"col_heading level0 col59\" >Serial_B1037</th>\n",
              "      <th class=\"col_heading level0 col60\" >Serial_B1038</th>\n",
              "      <th class=\"col_heading level0 col61\" >Serial_B1039</th>\n",
              "      <th class=\"col_heading level0 col62\" >Serial_B1040</th>\n",
              "      <th class=\"col_heading level0 col63\" >Serial_B1041</th>\n",
              "      <th class=\"col_heading level0 col64\" >Serial_B1042</th>\n",
              "      <th class=\"col_heading level0 col65\" >Serial_B1043</th>\n",
              "      <th class=\"col_heading level0 col66\" >Serial_B1044</th>\n",
              "      <th class=\"col_heading level0 col67\" >Serial_B1045</th>\n",
              "      <th class=\"col_heading level0 col68\" >Serial_B1046</th>\n",
              "      <th class=\"col_heading level0 col69\" >Serial_B1047</th>\n",
              "      <th class=\"col_heading level0 col70\" >Serial_B1048</th>\n",
              "      <th class=\"col_heading level0 col71\" >Serial_B1049</th>\n",
              "      <th class=\"col_heading level0 col72\" >Serial_B1050</th>\n",
              "      <th class=\"col_heading level0 col73\" >Serial_B1051</th>\n",
              "      <th class=\"col_heading level0 col74\" >Serial_B1054</th>\n",
              "      <th class=\"col_heading level0 col75\" >Serial_B1056</th>\n",
              "      <th class=\"col_heading level0 col76\" >Serial_B1058</th>\n",
              "      <th class=\"col_heading level0 col77\" >Serial_B1059</th>\n",
              "      <th class=\"col_heading level0 col78\" >Serial_B1060</th>\n",
              "      <th class=\"col_heading level0 col79\" >Serial_B1062</th>\n",
              "    </tr>\n",
              "  </thead>\n",
              "  <tbody>\n",
              "    <tr>\n",
              "      <th id=\"T_bb9a3_level0_row0\" class=\"row_heading level0 row0\" >0</th>\n",
              "      <td id=\"T_bb9a3_row0_col0\" class=\"data row0 col0\" >1</td>\n",
              "      <td id=\"T_bb9a3_row0_col1\" class=\"data row0 col1\" >6104.959412</td>\n",
              "      <td id=\"T_bb9a3_row0_col2\" class=\"data row0 col2\" >1</td>\n",
              "      <td id=\"T_bb9a3_row0_col3\" class=\"data row0 col3\" >False</td>\n",
              "      <td id=\"T_bb9a3_row0_col4\" class=\"data row0 col4\" >False</td>\n",
              "      <td id=\"T_bb9a3_row0_col5\" class=\"data row0 col5\" >False</td>\n",
              "      <td id=\"T_bb9a3_row0_col6\" class=\"data row0 col6\" >1.000000</td>\n",
              "      <td id=\"T_bb9a3_row0_col7\" class=\"data row0 col7\" >0</td>\n",
              "      <td id=\"T_bb9a3_row0_col8\" class=\"data row0 col8\" >0</td>\n",
              "      <td id=\"T_bb9a3_row0_col9\" class=\"data row0 col9\" >0</td>\n",
              "      <td id=\"T_bb9a3_row0_col10\" class=\"data row0 col10\" >0</td>\n",
              "      <td id=\"T_bb9a3_row0_col11\" class=\"data row0 col11\" >0</td>\n",
              "      <td id=\"T_bb9a3_row0_col12\" class=\"data row0 col12\" >0</td>\n",
              "      <td id=\"T_bb9a3_row0_col13\" class=\"data row0 col13\" >1</td>\n",
              "      <td id=\"T_bb9a3_row0_col14\" class=\"data row0 col14\" >0</td>\n",
              "      <td id=\"T_bb9a3_row0_col15\" class=\"data row0 col15\" >0</td>\n",
              "      <td id=\"T_bb9a3_row0_col16\" class=\"data row0 col16\" >0</td>\n",
              "      <td id=\"T_bb9a3_row0_col17\" class=\"data row0 col17\" >0</td>\n",
              "      <td id=\"T_bb9a3_row0_col18\" class=\"data row0 col18\" >0</td>\n",
              "      <td id=\"T_bb9a3_row0_col19\" class=\"data row0 col19\" >1</td>\n",
              "      <td id=\"T_bb9a3_row0_col20\" class=\"data row0 col20\" >0</td>\n",
              "      <td id=\"T_bb9a3_row0_col21\" class=\"data row0 col21\" >0</td>\n",
              "      <td id=\"T_bb9a3_row0_col22\" class=\"data row0 col22\" >0</td>\n",
              "      <td id=\"T_bb9a3_row0_col23\" class=\"data row0 col23\" >0</td>\n",
              "      <td id=\"T_bb9a3_row0_col24\" class=\"data row0 col24\" >0</td>\n",
              "      <td id=\"T_bb9a3_row0_col25\" class=\"data row0 col25\" >0</td>\n",
              "      <td id=\"T_bb9a3_row0_col26\" class=\"data row0 col26\" >0</td>\n",
              "      <td id=\"T_bb9a3_row0_col27\" class=\"data row0 col27\" >1</td>\n",
              "      <td id=\"T_bb9a3_row0_col28\" class=\"data row0 col28\" >0</td>\n",
              "      <td id=\"T_bb9a3_row0_col29\" class=\"data row0 col29\" >0</td>\n",
              "      <td id=\"T_bb9a3_row0_col30\" class=\"data row0 col30\" >0</td>\n",
              "      <td id=\"T_bb9a3_row0_col31\" class=\"data row0 col31\" >0</td>\n",
              "      <td id=\"T_bb9a3_row0_col32\" class=\"data row0 col32\" >0</td>\n",
              "      <td id=\"T_bb9a3_row0_col33\" class=\"data row0 col33\" >0</td>\n",
              "      <td id=\"T_bb9a3_row0_col34\" class=\"data row0 col34\" >0</td>\n",
              "      <td id=\"T_bb9a3_row0_col35\" class=\"data row0 col35\" >0</td>\n",
              "      <td id=\"T_bb9a3_row0_col36\" class=\"data row0 col36\" >0</td>\n",
              "      <td id=\"T_bb9a3_row0_col37\" class=\"data row0 col37\" >0</td>\n",
              "      <td id=\"T_bb9a3_row0_col38\" class=\"data row0 col38\" >0</td>\n",
              "      <td id=\"T_bb9a3_row0_col39\" class=\"data row0 col39\" >0</td>\n",
              "      <td id=\"T_bb9a3_row0_col40\" class=\"data row0 col40\" >0</td>\n",
              "      <td id=\"T_bb9a3_row0_col41\" class=\"data row0 col41\" >0</td>\n",
              "      <td id=\"T_bb9a3_row0_col42\" class=\"data row0 col42\" >0</td>\n",
              "      <td id=\"T_bb9a3_row0_col43\" class=\"data row0 col43\" >0</td>\n",
              "      <td id=\"T_bb9a3_row0_col44\" class=\"data row0 col44\" >0</td>\n",
              "      <td id=\"T_bb9a3_row0_col45\" class=\"data row0 col45\" >0</td>\n",
              "      <td id=\"T_bb9a3_row0_col46\" class=\"data row0 col46\" >0</td>\n",
              "      <td id=\"T_bb9a3_row0_col47\" class=\"data row0 col47\" >0</td>\n",
              "      <td id=\"T_bb9a3_row0_col48\" class=\"data row0 col48\" >0</td>\n",
              "      <td id=\"T_bb9a3_row0_col49\" class=\"data row0 col49\" >0</td>\n",
              "      <td id=\"T_bb9a3_row0_col50\" class=\"data row0 col50\" >0</td>\n",
              "      <td id=\"T_bb9a3_row0_col51\" class=\"data row0 col51\" >0</td>\n",
              "      <td id=\"T_bb9a3_row0_col52\" class=\"data row0 col52\" >0</td>\n",
              "      <td id=\"T_bb9a3_row0_col53\" class=\"data row0 col53\" >0</td>\n",
              "      <td id=\"T_bb9a3_row0_col54\" class=\"data row0 col54\" >0</td>\n",
              "      <td id=\"T_bb9a3_row0_col55\" class=\"data row0 col55\" >0</td>\n",
              "      <td id=\"T_bb9a3_row0_col56\" class=\"data row0 col56\" >0</td>\n",
              "      <td id=\"T_bb9a3_row0_col57\" class=\"data row0 col57\" >0</td>\n",
              "      <td id=\"T_bb9a3_row0_col58\" class=\"data row0 col58\" >0</td>\n",
              "      <td id=\"T_bb9a3_row0_col59\" class=\"data row0 col59\" >0</td>\n",
              "      <td id=\"T_bb9a3_row0_col60\" class=\"data row0 col60\" >0</td>\n",
              "      <td id=\"T_bb9a3_row0_col61\" class=\"data row0 col61\" >0</td>\n",
              "      <td id=\"T_bb9a3_row0_col62\" class=\"data row0 col62\" >0</td>\n",
              "      <td id=\"T_bb9a3_row0_col63\" class=\"data row0 col63\" >0</td>\n",
              "      <td id=\"T_bb9a3_row0_col64\" class=\"data row0 col64\" >0</td>\n",
              "      <td id=\"T_bb9a3_row0_col65\" class=\"data row0 col65\" >0</td>\n",
              "      <td id=\"T_bb9a3_row0_col66\" class=\"data row0 col66\" >0</td>\n",
              "      <td id=\"T_bb9a3_row0_col67\" class=\"data row0 col67\" >0</td>\n",
              "      <td id=\"T_bb9a3_row0_col68\" class=\"data row0 col68\" >0</td>\n",
              "      <td id=\"T_bb9a3_row0_col69\" class=\"data row0 col69\" >0</td>\n",
              "      <td id=\"T_bb9a3_row0_col70\" class=\"data row0 col70\" >0</td>\n",
              "      <td id=\"T_bb9a3_row0_col71\" class=\"data row0 col71\" >0</td>\n",
              "      <td id=\"T_bb9a3_row0_col72\" class=\"data row0 col72\" >0</td>\n",
              "      <td id=\"T_bb9a3_row0_col73\" class=\"data row0 col73\" >0</td>\n",
              "      <td id=\"T_bb9a3_row0_col74\" class=\"data row0 col74\" >0</td>\n",
              "      <td id=\"T_bb9a3_row0_col75\" class=\"data row0 col75\" >0</td>\n",
              "      <td id=\"T_bb9a3_row0_col76\" class=\"data row0 col76\" >0</td>\n",
              "      <td id=\"T_bb9a3_row0_col77\" class=\"data row0 col77\" >0</td>\n",
              "      <td id=\"T_bb9a3_row0_col78\" class=\"data row0 col78\" >0</td>\n",
              "      <td id=\"T_bb9a3_row0_col79\" class=\"data row0 col79\" >0</td>\n",
              "    </tr>\n",
              "    <tr>\n",
              "      <th id=\"T_bb9a3_level0_row1\" class=\"row_heading level0 row1\" >1</th>\n",
              "      <td id=\"T_bb9a3_row1_col0\" class=\"data row1 col0\" >2</td>\n",
              "      <td id=\"T_bb9a3_row1_col1\" class=\"data row1 col1\" >525.000000</td>\n",
              "      <td id=\"T_bb9a3_row1_col2\" class=\"data row1 col2\" >1</td>\n",
              "      <td id=\"T_bb9a3_row1_col3\" class=\"data row1 col3\" >False</td>\n",
              "      <td id=\"T_bb9a3_row1_col4\" class=\"data row1 col4\" >False</td>\n",
              "      <td id=\"T_bb9a3_row1_col5\" class=\"data row1 col5\" >False</td>\n",
              "      <td id=\"T_bb9a3_row1_col6\" class=\"data row1 col6\" >1.000000</td>\n",
              "      <td id=\"T_bb9a3_row1_col7\" class=\"data row1 col7\" >0</td>\n",
              "      <td id=\"T_bb9a3_row1_col8\" class=\"data row1 col8\" >0</td>\n",
              "      <td id=\"T_bb9a3_row1_col9\" class=\"data row1 col9\" >0</td>\n",
              "      <td id=\"T_bb9a3_row1_col10\" class=\"data row1 col10\" >0</td>\n",
              "      <td id=\"T_bb9a3_row1_col11\" class=\"data row1 col11\" >0</td>\n",
              "      <td id=\"T_bb9a3_row1_col12\" class=\"data row1 col12\" >0</td>\n",
              "      <td id=\"T_bb9a3_row1_col13\" class=\"data row1 col13\" >1</td>\n",
              "      <td id=\"T_bb9a3_row1_col14\" class=\"data row1 col14\" >0</td>\n",
              "      <td id=\"T_bb9a3_row1_col15\" class=\"data row1 col15\" >0</td>\n",
              "      <td id=\"T_bb9a3_row1_col16\" class=\"data row1 col16\" >0</td>\n",
              "      <td id=\"T_bb9a3_row1_col17\" class=\"data row1 col17\" >0</td>\n",
              "      <td id=\"T_bb9a3_row1_col18\" class=\"data row1 col18\" >0</td>\n",
              "      <td id=\"T_bb9a3_row1_col19\" class=\"data row1 col19\" >1</td>\n",
              "      <td id=\"T_bb9a3_row1_col20\" class=\"data row1 col20\" >0</td>\n",
              "      <td id=\"T_bb9a3_row1_col21\" class=\"data row1 col21\" >0</td>\n",
              "      <td id=\"T_bb9a3_row1_col22\" class=\"data row1 col22\" >0</td>\n",
              "      <td id=\"T_bb9a3_row1_col23\" class=\"data row1 col23\" >0</td>\n",
              "      <td id=\"T_bb9a3_row1_col24\" class=\"data row1 col24\" >0</td>\n",
              "      <td id=\"T_bb9a3_row1_col25\" class=\"data row1 col25\" >0</td>\n",
              "      <td id=\"T_bb9a3_row1_col26\" class=\"data row1 col26\" >0</td>\n",
              "      <td id=\"T_bb9a3_row1_col27\" class=\"data row1 col27\" >0</td>\n",
              "      <td id=\"T_bb9a3_row1_col28\" class=\"data row1 col28\" >1</td>\n",
              "      <td id=\"T_bb9a3_row1_col29\" class=\"data row1 col29\" >0</td>\n",
              "      <td id=\"T_bb9a3_row1_col30\" class=\"data row1 col30\" >0</td>\n",
              "      <td id=\"T_bb9a3_row1_col31\" class=\"data row1 col31\" >0</td>\n",
              "      <td id=\"T_bb9a3_row1_col32\" class=\"data row1 col32\" >0</td>\n",
              "      <td id=\"T_bb9a3_row1_col33\" class=\"data row1 col33\" >0</td>\n",
              "      <td id=\"T_bb9a3_row1_col34\" class=\"data row1 col34\" >0</td>\n",
              "      <td id=\"T_bb9a3_row1_col35\" class=\"data row1 col35\" >0</td>\n",
              "      <td id=\"T_bb9a3_row1_col36\" class=\"data row1 col36\" >0</td>\n",
              "      <td id=\"T_bb9a3_row1_col37\" class=\"data row1 col37\" >0</td>\n",
              "      <td id=\"T_bb9a3_row1_col38\" class=\"data row1 col38\" >0</td>\n",
              "      <td id=\"T_bb9a3_row1_col39\" class=\"data row1 col39\" >0</td>\n",
              "      <td id=\"T_bb9a3_row1_col40\" class=\"data row1 col40\" >0</td>\n",
              "      <td id=\"T_bb9a3_row1_col41\" class=\"data row1 col41\" >0</td>\n",
              "      <td id=\"T_bb9a3_row1_col42\" class=\"data row1 col42\" >0</td>\n",
              "      <td id=\"T_bb9a3_row1_col43\" class=\"data row1 col43\" >0</td>\n",
              "      <td id=\"T_bb9a3_row1_col44\" class=\"data row1 col44\" >0</td>\n",
              "      <td id=\"T_bb9a3_row1_col45\" class=\"data row1 col45\" >0</td>\n",
              "      <td id=\"T_bb9a3_row1_col46\" class=\"data row1 col46\" >0</td>\n",
              "      <td id=\"T_bb9a3_row1_col47\" class=\"data row1 col47\" >0</td>\n",
              "      <td id=\"T_bb9a3_row1_col48\" class=\"data row1 col48\" >0</td>\n",
              "      <td id=\"T_bb9a3_row1_col49\" class=\"data row1 col49\" >0</td>\n",
              "      <td id=\"T_bb9a3_row1_col50\" class=\"data row1 col50\" >0</td>\n",
              "      <td id=\"T_bb9a3_row1_col51\" class=\"data row1 col51\" >0</td>\n",
              "      <td id=\"T_bb9a3_row1_col52\" class=\"data row1 col52\" >0</td>\n",
              "      <td id=\"T_bb9a3_row1_col53\" class=\"data row1 col53\" >0</td>\n",
              "      <td id=\"T_bb9a3_row1_col54\" class=\"data row1 col54\" >0</td>\n",
              "      <td id=\"T_bb9a3_row1_col55\" class=\"data row1 col55\" >0</td>\n",
              "      <td id=\"T_bb9a3_row1_col56\" class=\"data row1 col56\" >0</td>\n",
              "      <td id=\"T_bb9a3_row1_col57\" class=\"data row1 col57\" >0</td>\n",
              "      <td id=\"T_bb9a3_row1_col58\" class=\"data row1 col58\" >0</td>\n",
              "      <td id=\"T_bb9a3_row1_col59\" class=\"data row1 col59\" >0</td>\n",
              "      <td id=\"T_bb9a3_row1_col60\" class=\"data row1 col60\" >0</td>\n",
              "      <td id=\"T_bb9a3_row1_col61\" class=\"data row1 col61\" >0</td>\n",
              "      <td id=\"T_bb9a3_row1_col62\" class=\"data row1 col62\" >0</td>\n",
              "      <td id=\"T_bb9a3_row1_col63\" class=\"data row1 col63\" >0</td>\n",
              "      <td id=\"T_bb9a3_row1_col64\" class=\"data row1 col64\" >0</td>\n",
              "      <td id=\"T_bb9a3_row1_col65\" class=\"data row1 col65\" >0</td>\n",
              "      <td id=\"T_bb9a3_row1_col66\" class=\"data row1 col66\" >0</td>\n",
              "      <td id=\"T_bb9a3_row1_col67\" class=\"data row1 col67\" >0</td>\n",
              "      <td id=\"T_bb9a3_row1_col68\" class=\"data row1 col68\" >0</td>\n",
              "      <td id=\"T_bb9a3_row1_col69\" class=\"data row1 col69\" >0</td>\n",
              "      <td id=\"T_bb9a3_row1_col70\" class=\"data row1 col70\" >0</td>\n",
              "      <td id=\"T_bb9a3_row1_col71\" class=\"data row1 col71\" >0</td>\n",
              "      <td id=\"T_bb9a3_row1_col72\" class=\"data row1 col72\" >0</td>\n",
              "      <td id=\"T_bb9a3_row1_col73\" class=\"data row1 col73\" >0</td>\n",
              "      <td id=\"T_bb9a3_row1_col74\" class=\"data row1 col74\" >0</td>\n",
              "      <td id=\"T_bb9a3_row1_col75\" class=\"data row1 col75\" >0</td>\n",
              "      <td id=\"T_bb9a3_row1_col76\" class=\"data row1 col76\" >0</td>\n",
              "      <td id=\"T_bb9a3_row1_col77\" class=\"data row1 col77\" >0</td>\n",
              "      <td id=\"T_bb9a3_row1_col78\" class=\"data row1 col78\" >0</td>\n",
              "      <td id=\"T_bb9a3_row1_col79\" class=\"data row1 col79\" >0</td>\n",
              "    </tr>\n",
              "    <tr>\n",
              "      <th id=\"T_bb9a3_level0_row2\" class=\"row_heading level0 row2\" >2</th>\n",
              "      <td id=\"T_bb9a3_row2_col0\" class=\"data row2 col0\" >3</td>\n",
              "      <td id=\"T_bb9a3_row2_col1\" class=\"data row2 col1\" >677.000000</td>\n",
              "      <td id=\"T_bb9a3_row2_col2\" class=\"data row2 col2\" >1</td>\n",
              "      <td id=\"T_bb9a3_row2_col3\" class=\"data row2 col3\" >False</td>\n",
              "      <td id=\"T_bb9a3_row2_col4\" class=\"data row2 col4\" >False</td>\n",
              "      <td id=\"T_bb9a3_row2_col5\" class=\"data row2 col5\" >False</td>\n",
              "      <td id=\"T_bb9a3_row2_col6\" class=\"data row2 col6\" >1.000000</td>\n",
              "      <td id=\"T_bb9a3_row2_col7\" class=\"data row2 col7\" >0</td>\n",
              "      <td id=\"T_bb9a3_row2_col8\" class=\"data row2 col8\" >0</td>\n",
              "      <td id=\"T_bb9a3_row2_col9\" class=\"data row2 col9\" >0</td>\n",
              "      <td id=\"T_bb9a3_row2_col10\" class=\"data row2 col10\" >0</td>\n",
              "      <td id=\"T_bb9a3_row2_col11\" class=\"data row2 col11\" >0</td>\n",
              "      <td id=\"T_bb9a3_row2_col12\" class=\"data row2 col12\" >1</td>\n",
              "      <td id=\"T_bb9a3_row2_col13\" class=\"data row2 col13\" >0</td>\n",
              "      <td id=\"T_bb9a3_row2_col14\" class=\"data row2 col14\" >0</td>\n",
              "      <td id=\"T_bb9a3_row2_col15\" class=\"data row2 col15\" >0</td>\n",
              "      <td id=\"T_bb9a3_row2_col16\" class=\"data row2 col16\" >0</td>\n",
              "      <td id=\"T_bb9a3_row2_col17\" class=\"data row2 col17\" >0</td>\n",
              "      <td id=\"T_bb9a3_row2_col18\" class=\"data row2 col18\" >0</td>\n",
              "      <td id=\"T_bb9a3_row2_col19\" class=\"data row2 col19\" >1</td>\n",
              "      <td id=\"T_bb9a3_row2_col20\" class=\"data row2 col20\" >0</td>\n",
              "      <td id=\"T_bb9a3_row2_col21\" class=\"data row2 col21\" >0</td>\n",
              "      <td id=\"T_bb9a3_row2_col22\" class=\"data row2 col22\" >0</td>\n",
              "      <td id=\"T_bb9a3_row2_col23\" class=\"data row2 col23\" >0</td>\n",
              "      <td id=\"T_bb9a3_row2_col24\" class=\"data row2 col24\" >0</td>\n",
              "      <td id=\"T_bb9a3_row2_col25\" class=\"data row2 col25\" >0</td>\n",
              "      <td id=\"T_bb9a3_row2_col26\" class=\"data row2 col26\" >0</td>\n",
              "      <td id=\"T_bb9a3_row2_col27\" class=\"data row2 col27\" >0</td>\n",
              "      <td id=\"T_bb9a3_row2_col28\" class=\"data row2 col28\" >0</td>\n",
              "      <td id=\"T_bb9a3_row2_col29\" class=\"data row2 col29\" >1</td>\n",
              "      <td id=\"T_bb9a3_row2_col30\" class=\"data row2 col30\" >0</td>\n",
              "      <td id=\"T_bb9a3_row2_col31\" class=\"data row2 col31\" >0</td>\n",
              "      <td id=\"T_bb9a3_row2_col32\" class=\"data row2 col32\" >0</td>\n",
              "      <td id=\"T_bb9a3_row2_col33\" class=\"data row2 col33\" >0</td>\n",
              "      <td id=\"T_bb9a3_row2_col34\" class=\"data row2 col34\" >0</td>\n",
              "      <td id=\"T_bb9a3_row2_col35\" class=\"data row2 col35\" >0</td>\n",
              "      <td id=\"T_bb9a3_row2_col36\" class=\"data row2 col36\" >0</td>\n",
              "      <td id=\"T_bb9a3_row2_col37\" class=\"data row2 col37\" >0</td>\n",
              "      <td id=\"T_bb9a3_row2_col38\" class=\"data row2 col38\" >0</td>\n",
              "      <td id=\"T_bb9a3_row2_col39\" class=\"data row2 col39\" >0</td>\n",
              "      <td id=\"T_bb9a3_row2_col40\" class=\"data row2 col40\" >0</td>\n",
              "      <td id=\"T_bb9a3_row2_col41\" class=\"data row2 col41\" >0</td>\n",
              "      <td id=\"T_bb9a3_row2_col42\" class=\"data row2 col42\" >0</td>\n",
              "      <td id=\"T_bb9a3_row2_col43\" class=\"data row2 col43\" >0</td>\n",
              "      <td id=\"T_bb9a3_row2_col44\" class=\"data row2 col44\" >0</td>\n",
              "      <td id=\"T_bb9a3_row2_col45\" class=\"data row2 col45\" >0</td>\n",
              "      <td id=\"T_bb9a3_row2_col46\" class=\"data row2 col46\" >0</td>\n",
              "      <td id=\"T_bb9a3_row2_col47\" class=\"data row2 col47\" >0</td>\n",
              "      <td id=\"T_bb9a3_row2_col48\" class=\"data row2 col48\" >0</td>\n",
              "      <td id=\"T_bb9a3_row2_col49\" class=\"data row2 col49\" >0</td>\n",
              "      <td id=\"T_bb9a3_row2_col50\" class=\"data row2 col50\" >0</td>\n",
              "      <td id=\"T_bb9a3_row2_col51\" class=\"data row2 col51\" >0</td>\n",
              "      <td id=\"T_bb9a3_row2_col52\" class=\"data row2 col52\" >0</td>\n",
              "      <td id=\"T_bb9a3_row2_col53\" class=\"data row2 col53\" >0</td>\n",
              "      <td id=\"T_bb9a3_row2_col54\" class=\"data row2 col54\" >0</td>\n",
              "      <td id=\"T_bb9a3_row2_col55\" class=\"data row2 col55\" >0</td>\n",
              "      <td id=\"T_bb9a3_row2_col56\" class=\"data row2 col56\" >0</td>\n",
              "      <td id=\"T_bb9a3_row2_col57\" class=\"data row2 col57\" >0</td>\n",
              "      <td id=\"T_bb9a3_row2_col58\" class=\"data row2 col58\" >0</td>\n",
              "      <td id=\"T_bb9a3_row2_col59\" class=\"data row2 col59\" >0</td>\n",
              "      <td id=\"T_bb9a3_row2_col60\" class=\"data row2 col60\" >0</td>\n",
              "      <td id=\"T_bb9a3_row2_col61\" class=\"data row2 col61\" >0</td>\n",
              "      <td id=\"T_bb9a3_row2_col62\" class=\"data row2 col62\" >0</td>\n",
              "      <td id=\"T_bb9a3_row2_col63\" class=\"data row2 col63\" >0</td>\n",
              "      <td id=\"T_bb9a3_row2_col64\" class=\"data row2 col64\" >0</td>\n",
              "      <td id=\"T_bb9a3_row2_col65\" class=\"data row2 col65\" >0</td>\n",
              "      <td id=\"T_bb9a3_row2_col66\" class=\"data row2 col66\" >0</td>\n",
              "      <td id=\"T_bb9a3_row2_col67\" class=\"data row2 col67\" >0</td>\n",
              "      <td id=\"T_bb9a3_row2_col68\" class=\"data row2 col68\" >0</td>\n",
              "      <td id=\"T_bb9a3_row2_col69\" class=\"data row2 col69\" >0</td>\n",
              "      <td id=\"T_bb9a3_row2_col70\" class=\"data row2 col70\" >0</td>\n",
              "      <td id=\"T_bb9a3_row2_col71\" class=\"data row2 col71\" >0</td>\n",
              "      <td id=\"T_bb9a3_row2_col72\" class=\"data row2 col72\" >0</td>\n",
              "      <td id=\"T_bb9a3_row2_col73\" class=\"data row2 col73\" >0</td>\n",
              "      <td id=\"T_bb9a3_row2_col74\" class=\"data row2 col74\" >0</td>\n",
              "      <td id=\"T_bb9a3_row2_col75\" class=\"data row2 col75\" >0</td>\n",
              "      <td id=\"T_bb9a3_row2_col76\" class=\"data row2 col76\" >0</td>\n",
              "      <td id=\"T_bb9a3_row2_col77\" class=\"data row2 col77\" >0</td>\n",
              "      <td id=\"T_bb9a3_row2_col78\" class=\"data row2 col78\" >0</td>\n",
              "      <td id=\"T_bb9a3_row2_col79\" class=\"data row2 col79\" >0</td>\n",
              "    </tr>\n",
              "    <tr>\n",
              "      <th id=\"T_bb9a3_level0_row3\" class=\"row_heading level0 row3\" >3</th>\n",
              "      <td id=\"T_bb9a3_row3_col0\" class=\"data row3 col0\" >4</td>\n",
              "      <td id=\"T_bb9a3_row3_col1\" class=\"data row3 col1\" >500.000000</td>\n",
              "      <td id=\"T_bb9a3_row3_col2\" class=\"data row3 col2\" >1</td>\n",
              "      <td id=\"T_bb9a3_row3_col3\" class=\"data row3 col3\" >False</td>\n",
              "      <td id=\"T_bb9a3_row3_col4\" class=\"data row3 col4\" >False</td>\n",
              "      <td id=\"T_bb9a3_row3_col5\" class=\"data row3 col5\" >False</td>\n",
              "      <td id=\"T_bb9a3_row3_col6\" class=\"data row3 col6\" >1.000000</td>\n",
              "      <td id=\"T_bb9a3_row3_col7\" class=\"data row3 col7\" >0</td>\n",
              "      <td id=\"T_bb9a3_row3_col8\" class=\"data row3 col8\" >0</td>\n",
              "      <td id=\"T_bb9a3_row3_col9\" class=\"data row3 col9\" >0</td>\n",
              "      <td id=\"T_bb9a3_row3_col10\" class=\"data row3 col10\" >0</td>\n",
              "      <td id=\"T_bb9a3_row3_col11\" class=\"data row3 col11\" >0</td>\n",
              "      <td id=\"T_bb9a3_row3_col12\" class=\"data row3 col12\" >0</td>\n",
              "      <td id=\"T_bb9a3_row3_col13\" class=\"data row3 col13\" >0</td>\n",
              "      <td id=\"T_bb9a3_row3_col14\" class=\"data row3 col14\" >0</td>\n",
              "      <td id=\"T_bb9a3_row3_col15\" class=\"data row3 col15\" >1</td>\n",
              "      <td id=\"T_bb9a3_row3_col16\" class=\"data row3 col16\" >0</td>\n",
              "      <td id=\"T_bb9a3_row3_col17\" class=\"data row3 col17\" >0</td>\n",
              "      <td id=\"T_bb9a3_row3_col18\" class=\"data row3 col18\" >0</td>\n",
              "      <td id=\"T_bb9a3_row3_col19\" class=\"data row3 col19\" >0</td>\n",
              "      <td id=\"T_bb9a3_row3_col20\" class=\"data row3 col20\" >0</td>\n",
              "      <td id=\"T_bb9a3_row3_col21\" class=\"data row3 col21\" >1</td>\n",
              "      <td id=\"T_bb9a3_row3_col22\" class=\"data row3 col22\" >0</td>\n",
              "      <td id=\"T_bb9a3_row3_col23\" class=\"data row3 col23\" >0</td>\n",
              "      <td id=\"T_bb9a3_row3_col24\" class=\"data row3 col24\" >0</td>\n",
              "      <td id=\"T_bb9a3_row3_col25\" class=\"data row3 col25\" >0</td>\n",
              "      <td id=\"T_bb9a3_row3_col26\" class=\"data row3 col26\" >0</td>\n",
              "      <td id=\"T_bb9a3_row3_col27\" class=\"data row3 col27\" >0</td>\n",
              "      <td id=\"T_bb9a3_row3_col28\" class=\"data row3 col28\" >0</td>\n",
              "      <td id=\"T_bb9a3_row3_col29\" class=\"data row3 col29\" >0</td>\n",
              "      <td id=\"T_bb9a3_row3_col30\" class=\"data row3 col30\" >1</td>\n",
              "      <td id=\"T_bb9a3_row3_col31\" class=\"data row3 col31\" >0</td>\n",
              "      <td id=\"T_bb9a3_row3_col32\" class=\"data row3 col32\" >0</td>\n",
              "      <td id=\"T_bb9a3_row3_col33\" class=\"data row3 col33\" >0</td>\n",
              "      <td id=\"T_bb9a3_row3_col34\" class=\"data row3 col34\" >0</td>\n",
              "      <td id=\"T_bb9a3_row3_col35\" class=\"data row3 col35\" >0</td>\n",
              "      <td id=\"T_bb9a3_row3_col36\" class=\"data row3 col36\" >0</td>\n",
              "      <td id=\"T_bb9a3_row3_col37\" class=\"data row3 col37\" >0</td>\n",
              "      <td id=\"T_bb9a3_row3_col38\" class=\"data row3 col38\" >0</td>\n",
              "      <td id=\"T_bb9a3_row3_col39\" class=\"data row3 col39\" >0</td>\n",
              "      <td id=\"T_bb9a3_row3_col40\" class=\"data row3 col40\" >0</td>\n",
              "      <td id=\"T_bb9a3_row3_col41\" class=\"data row3 col41\" >0</td>\n",
              "      <td id=\"T_bb9a3_row3_col42\" class=\"data row3 col42\" >0</td>\n",
              "      <td id=\"T_bb9a3_row3_col43\" class=\"data row3 col43\" >0</td>\n",
              "      <td id=\"T_bb9a3_row3_col44\" class=\"data row3 col44\" >0</td>\n",
              "      <td id=\"T_bb9a3_row3_col45\" class=\"data row3 col45\" >0</td>\n",
              "      <td id=\"T_bb9a3_row3_col46\" class=\"data row3 col46\" >0</td>\n",
              "      <td id=\"T_bb9a3_row3_col47\" class=\"data row3 col47\" >0</td>\n",
              "      <td id=\"T_bb9a3_row3_col48\" class=\"data row3 col48\" >0</td>\n",
              "      <td id=\"T_bb9a3_row3_col49\" class=\"data row3 col49\" >0</td>\n",
              "      <td id=\"T_bb9a3_row3_col50\" class=\"data row3 col50\" >0</td>\n",
              "      <td id=\"T_bb9a3_row3_col51\" class=\"data row3 col51\" >0</td>\n",
              "      <td id=\"T_bb9a3_row3_col52\" class=\"data row3 col52\" >0</td>\n",
              "      <td id=\"T_bb9a3_row3_col53\" class=\"data row3 col53\" >0</td>\n",
              "      <td id=\"T_bb9a3_row3_col54\" class=\"data row3 col54\" >0</td>\n",
              "      <td id=\"T_bb9a3_row3_col55\" class=\"data row3 col55\" >0</td>\n",
              "      <td id=\"T_bb9a3_row3_col56\" class=\"data row3 col56\" >0</td>\n",
              "      <td id=\"T_bb9a3_row3_col57\" class=\"data row3 col57\" >0</td>\n",
              "      <td id=\"T_bb9a3_row3_col58\" class=\"data row3 col58\" >0</td>\n",
              "      <td id=\"T_bb9a3_row3_col59\" class=\"data row3 col59\" >0</td>\n",
              "      <td id=\"T_bb9a3_row3_col60\" class=\"data row3 col60\" >0</td>\n",
              "      <td id=\"T_bb9a3_row3_col61\" class=\"data row3 col61\" >0</td>\n",
              "      <td id=\"T_bb9a3_row3_col62\" class=\"data row3 col62\" >0</td>\n",
              "      <td id=\"T_bb9a3_row3_col63\" class=\"data row3 col63\" >0</td>\n",
              "      <td id=\"T_bb9a3_row3_col64\" class=\"data row3 col64\" >0</td>\n",
              "      <td id=\"T_bb9a3_row3_col65\" class=\"data row3 col65\" >0</td>\n",
              "      <td id=\"T_bb9a3_row3_col66\" class=\"data row3 col66\" >0</td>\n",
              "      <td id=\"T_bb9a3_row3_col67\" class=\"data row3 col67\" >0</td>\n",
              "      <td id=\"T_bb9a3_row3_col68\" class=\"data row3 col68\" >0</td>\n",
              "      <td id=\"T_bb9a3_row3_col69\" class=\"data row3 col69\" >0</td>\n",
              "      <td id=\"T_bb9a3_row3_col70\" class=\"data row3 col70\" >0</td>\n",
              "      <td id=\"T_bb9a3_row3_col71\" class=\"data row3 col71\" >0</td>\n",
              "      <td id=\"T_bb9a3_row3_col72\" class=\"data row3 col72\" >0</td>\n",
              "      <td id=\"T_bb9a3_row3_col73\" class=\"data row3 col73\" >0</td>\n",
              "      <td id=\"T_bb9a3_row3_col74\" class=\"data row3 col74\" >0</td>\n",
              "      <td id=\"T_bb9a3_row3_col75\" class=\"data row3 col75\" >0</td>\n",
              "      <td id=\"T_bb9a3_row3_col76\" class=\"data row3 col76\" >0</td>\n",
              "      <td id=\"T_bb9a3_row3_col77\" class=\"data row3 col77\" >0</td>\n",
              "      <td id=\"T_bb9a3_row3_col78\" class=\"data row3 col78\" >0</td>\n",
              "      <td id=\"T_bb9a3_row3_col79\" class=\"data row3 col79\" >0</td>\n",
              "    </tr>\n",
              "    <tr>\n",
              "      <th id=\"T_bb9a3_level0_row4\" class=\"row_heading level0 row4\" >4</th>\n",
              "      <td id=\"T_bb9a3_row4_col0\" class=\"data row4 col0\" >5</td>\n",
              "      <td id=\"T_bb9a3_row4_col1\" class=\"data row4 col1\" >3170.000000</td>\n",
              "      <td id=\"T_bb9a3_row4_col2\" class=\"data row4 col2\" >1</td>\n",
              "      <td id=\"T_bb9a3_row4_col3\" class=\"data row4 col3\" >False</td>\n",
              "      <td id=\"T_bb9a3_row4_col4\" class=\"data row4 col4\" >False</td>\n",
              "      <td id=\"T_bb9a3_row4_col5\" class=\"data row4 col5\" >False</td>\n",
              "      <td id=\"T_bb9a3_row4_col6\" class=\"data row4 col6\" >1.000000</td>\n",
              "      <td id=\"T_bb9a3_row4_col7\" class=\"data row4 col7\" >0</td>\n",
              "      <td id=\"T_bb9a3_row4_col8\" class=\"data row4 col8\" >0</td>\n",
              "      <td id=\"T_bb9a3_row4_col9\" class=\"data row4 col9\" >0</td>\n",
              "      <td id=\"T_bb9a3_row4_col10\" class=\"data row4 col10\" >1</td>\n",
              "      <td id=\"T_bb9a3_row4_col11\" class=\"data row4 col11\" >0</td>\n",
              "      <td id=\"T_bb9a3_row4_col12\" class=\"data row4 col12\" >0</td>\n",
              "      <td id=\"T_bb9a3_row4_col13\" class=\"data row4 col13\" >0</td>\n",
              "      <td id=\"T_bb9a3_row4_col14\" class=\"data row4 col14\" >0</td>\n",
              "      <td id=\"T_bb9a3_row4_col15\" class=\"data row4 col15\" >0</td>\n",
              "      <td id=\"T_bb9a3_row4_col16\" class=\"data row4 col16\" >0</td>\n",
              "      <td id=\"T_bb9a3_row4_col17\" class=\"data row4 col17\" >0</td>\n",
              "      <td id=\"T_bb9a3_row4_col18\" class=\"data row4 col18\" >0</td>\n",
              "      <td id=\"T_bb9a3_row4_col19\" class=\"data row4 col19\" >1</td>\n",
              "      <td id=\"T_bb9a3_row4_col20\" class=\"data row4 col20\" >0</td>\n",
              "      <td id=\"T_bb9a3_row4_col21\" class=\"data row4 col21\" >0</td>\n",
              "      <td id=\"T_bb9a3_row4_col22\" class=\"data row4 col22\" >0</td>\n",
              "      <td id=\"T_bb9a3_row4_col23\" class=\"data row4 col23\" >0</td>\n",
              "      <td id=\"T_bb9a3_row4_col24\" class=\"data row4 col24\" >0</td>\n",
              "      <td id=\"T_bb9a3_row4_col25\" class=\"data row4 col25\" >0</td>\n",
              "      <td id=\"T_bb9a3_row4_col26\" class=\"data row4 col26\" >0</td>\n",
              "      <td id=\"T_bb9a3_row4_col27\" class=\"data row4 col27\" >0</td>\n",
              "      <td id=\"T_bb9a3_row4_col28\" class=\"data row4 col28\" >0</td>\n",
              "      <td id=\"T_bb9a3_row4_col29\" class=\"data row4 col29\" >0</td>\n",
              "      <td id=\"T_bb9a3_row4_col30\" class=\"data row4 col30\" >0</td>\n",
              "      <td id=\"T_bb9a3_row4_col31\" class=\"data row4 col31\" >1</td>\n",
              "      <td id=\"T_bb9a3_row4_col32\" class=\"data row4 col32\" >0</td>\n",
              "      <td id=\"T_bb9a3_row4_col33\" class=\"data row4 col33\" >0</td>\n",
              "      <td id=\"T_bb9a3_row4_col34\" class=\"data row4 col34\" >0</td>\n",
              "      <td id=\"T_bb9a3_row4_col35\" class=\"data row4 col35\" >0</td>\n",
              "      <td id=\"T_bb9a3_row4_col36\" class=\"data row4 col36\" >0</td>\n",
              "      <td id=\"T_bb9a3_row4_col37\" class=\"data row4 col37\" >0</td>\n",
              "      <td id=\"T_bb9a3_row4_col38\" class=\"data row4 col38\" >0</td>\n",
              "      <td id=\"T_bb9a3_row4_col39\" class=\"data row4 col39\" >0</td>\n",
              "      <td id=\"T_bb9a3_row4_col40\" class=\"data row4 col40\" >0</td>\n",
              "      <td id=\"T_bb9a3_row4_col41\" class=\"data row4 col41\" >0</td>\n",
              "      <td id=\"T_bb9a3_row4_col42\" class=\"data row4 col42\" >0</td>\n",
              "      <td id=\"T_bb9a3_row4_col43\" class=\"data row4 col43\" >0</td>\n",
              "      <td id=\"T_bb9a3_row4_col44\" class=\"data row4 col44\" >0</td>\n",
              "      <td id=\"T_bb9a3_row4_col45\" class=\"data row4 col45\" >0</td>\n",
              "      <td id=\"T_bb9a3_row4_col46\" class=\"data row4 col46\" >0</td>\n",
              "      <td id=\"T_bb9a3_row4_col47\" class=\"data row4 col47\" >0</td>\n",
              "      <td id=\"T_bb9a3_row4_col48\" class=\"data row4 col48\" >0</td>\n",
              "      <td id=\"T_bb9a3_row4_col49\" class=\"data row4 col49\" >0</td>\n",
              "      <td id=\"T_bb9a3_row4_col50\" class=\"data row4 col50\" >0</td>\n",
              "      <td id=\"T_bb9a3_row4_col51\" class=\"data row4 col51\" >0</td>\n",
              "      <td id=\"T_bb9a3_row4_col52\" class=\"data row4 col52\" >0</td>\n",
              "      <td id=\"T_bb9a3_row4_col53\" class=\"data row4 col53\" >0</td>\n",
              "      <td id=\"T_bb9a3_row4_col54\" class=\"data row4 col54\" >0</td>\n",
              "      <td id=\"T_bb9a3_row4_col55\" class=\"data row4 col55\" >0</td>\n",
              "      <td id=\"T_bb9a3_row4_col56\" class=\"data row4 col56\" >0</td>\n",
              "      <td id=\"T_bb9a3_row4_col57\" class=\"data row4 col57\" >0</td>\n",
              "      <td id=\"T_bb9a3_row4_col58\" class=\"data row4 col58\" >0</td>\n",
              "      <td id=\"T_bb9a3_row4_col59\" class=\"data row4 col59\" >0</td>\n",
              "      <td id=\"T_bb9a3_row4_col60\" class=\"data row4 col60\" >0</td>\n",
              "      <td id=\"T_bb9a3_row4_col61\" class=\"data row4 col61\" >0</td>\n",
              "      <td id=\"T_bb9a3_row4_col62\" class=\"data row4 col62\" >0</td>\n",
              "      <td id=\"T_bb9a3_row4_col63\" class=\"data row4 col63\" >0</td>\n",
              "      <td id=\"T_bb9a3_row4_col64\" class=\"data row4 col64\" >0</td>\n",
              "      <td id=\"T_bb9a3_row4_col65\" class=\"data row4 col65\" >0</td>\n",
              "      <td id=\"T_bb9a3_row4_col66\" class=\"data row4 col66\" >0</td>\n",
              "      <td id=\"T_bb9a3_row4_col67\" class=\"data row4 col67\" >0</td>\n",
              "      <td id=\"T_bb9a3_row4_col68\" class=\"data row4 col68\" >0</td>\n",
              "      <td id=\"T_bb9a3_row4_col69\" class=\"data row4 col69\" >0</td>\n",
              "      <td id=\"T_bb9a3_row4_col70\" class=\"data row4 col70\" >0</td>\n",
              "      <td id=\"T_bb9a3_row4_col71\" class=\"data row4 col71\" >0</td>\n",
              "      <td id=\"T_bb9a3_row4_col72\" class=\"data row4 col72\" >0</td>\n",
              "      <td id=\"T_bb9a3_row4_col73\" class=\"data row4 col73\" >0</td>\n",
              "      <td id=\"T_bb9a3_row4_col74\" class=\"data row4 col74\" >0</td>\n",
              "      <td id=\"T_bb9a3_row4_col75\" class=\"data row4 col75\" >0</td>\n",
              "      <td id=\"T_bb9a3_row4_col76\" class=\"data row4 col76\" >0</td>\n",
              "      <td id=\"T_bb9a3_row4_col77\" class=\"data row4 col77\" >0</td>\n",
              "      <td id=\"T_bb9a3_row4_col78\" class=\"data row4 col78\" >0</td>\n",
              "      <td id=\"T_bb9a3_row4_col79\" class=\"data row4 col79\" >0</td>\n",
              "    </tr>\n",
              "  </tbody>\n",
              "</table>\n"
            ]
          },
          "metadata": {},
          "execution_count": 75
        }
      ]
    },
    {
      "cell_type": "code",
      "source": [
        "features_one_hot.dtypes"
      ],
      "metadata": {
        "colab": {
          "base_uri": "https://localhost:8080/"
        },
        "id": "2rUPXNe_o-QL",
        "outputId": "84db3111-dcf7-4817-8ebf-c14602134689"
      },
      "execution_count": 76,
      "outputs": [
        {
          "output_type": "execute_result",
          "data": {
            "text/plain": [
              "FlightNumber      int64\n",
              "PayloadMass     float64\n",
              "Flights           int64\n",
              "GridFins           bool\n",
              "Reused             bool\n",
              "                 ...   \n",
              "Serial_B1056      uint8\n",
              "Serial_B1058      uint8\n",
              "Serial_B1059      uint8\n",
              "Serial_B1060      uint8\n",
              "Serial_B1062      uint8\n",
              "Length: 80, dtype: object"
            ]
          },
          "metadata": {},
          "execution_count": 76
        }
      ]
    },
    {
      "cell_type": "markdown",
      "metadata": {
        "id": "I0D2ExfEZb_Y"
      },
      "source": [
        "### TASK  8: Cast all numeric columns to `float64`\n"
      ]
    },
    {
      "cell_type": "markdown",
      "metadata": {
        "id": "ebHEKfLMZb_Y"
      },
      "source": [
        "Now that our <code>features_one_hot</code> dataframe only contains numbers cast the entire dataframe to variable type <code>float64</code>\n"
      ]
    },
    {
      "cell_type": "code",
      "execution_count": 77,
      "metadata": {
        "id": "Ab9H7OpsZb_Z"
      },
      "outputs": [],
      "source": [
        "# HINT: use astype function\n",
        "features_one_hot = features_one_hot.astype(float)"
      ]
    },
    {
      "cell_type": "code",
      "source": [
        "features_one_hot.to_csv(\"dataset_part_3.csv\", index = False)"
      ],
      "metadata": {
        "id": "HP-9tU4dpYon"
      },
      "execution_count": 78,
      "outputs": []
    },
    {
      "cell_type": "markdown",
      "metadata": {
        "id": "I7zTw-1GZb_Z"
      },
      "source": [
        "We can now export it to a <b>CSV</b> for the next section,but to make the answers consistent, in the next lab we will provide data in a pre-selected date range.\n"
      ]
    },
    {
      "cell_type": "markdown",
      "metadata": {
        "id": "dPqj_gN4Zb_Z"
      },
      "source": [
        "<code>features_one_hot.to_csv('dataset_part\\_3.csv', index=False)</code>\n"
      ]
    },
    {
      "cell_type": "markdown",
      "metadata": {
        "id": "nMNf4A2TZb_Z"
      },
      "source": [
        "## Authors\n"
      ]
    },
    {
      "cell_type": "markdown",
      "metadata": {
        "id": "LIW7LB2tZb_Z"
      },
      "source": [
        "<a href=\"https://www.linkedin.com/in/joseph-s-50398b136/?utm_medium=Exinfluencer&utm_source=Exinfluencer&utm_content=000026UJ&utm_term=10006555&utm_id=NA-SkillsNetwork-Channel-SkillsNetworkCoursesIBMDS0321ENSkillsNetwork26802033-2022-01-01\">Joseph Santarcangelo</a> has a PhD in Electrical Engineering, his research focused on using machine learning, signal processing, and computer vision to determine how videos impact human cognition. Joseph has been working for IBM since he completed his PhD.\n"
      ]
    },
    {
      "cell_type": "markdown",
      "metadata": {
        "id": "HhRI-ALqZb_Z"
      },
      "source": [
        "<a href=\"https://www.linkedin.com/in/nayefaboutayoun/?utm_medium=Exinfluencer&utm_source=Exinfluencer&utm_content=000026UJ&utm_term=10006555&utm_id=NA-SkillsNetwork-Channel-SkillsNetworkCoursesIBMDS0321ENSkillsNetwork26802033-2022-01-01\">Nayef Abou Tayoun</a> is a Data Scientist at IBM and pursuing a Master of Management in Artificial intelligence degree at Queen's University.\n"
      ]
    },
    {
      "cell_type": "markdown",
      "metadata": {
        "id": "0dRCGwJcZb_Z"
      },
      "source": [
        "## Change Log\n"
      ]
    },
    {
      "cell_type": "markdown",
      "metadata": {
        "id": "pknrYDzRZb_Z"
      },
      "source": [
        "| Date (YYYY-MM-DD) | Version | Changed By    | Change Description      |\n",
        "| ----------------- | ------- | ------------- | ----------------------- |\n",
        "| 2021-10-12        | 1.1     | Lakshmi Holla | Modified markdown       |\n",
        "| 2020-09-20        | 1.0     | Joseph        | Modified Multiple Areas |\n",
        "| 2020-11-10        | 1.1     | Nayef         | updating the input data |\n"
      ]
    },
    {
      "cell_type": "markdown",
      "metadata": {
        "id": "7c6H3Q1dZb_Z"
      },
      "source": [
        "Copyright © 2020 IBM Corporation. All rights reserved.\n"
      ]
    }
  ],
  "metadata": {
    "kernelspec": {
      "display_name": "Python 3",
      "language": "python",
      "name": "python3"
    },
    "language_info": {
      "codemirror_mode": {
        "name": "ipython",
        "version": 3
      },
      "file_extension": ".py",
      "mimetype": "text/x-python",
      "name": "python",
      "nbconvert_exporter": "python",
      "pygments_lexer": "ipython3",
      "version": "3.8.8"
    },
    "colab": {
      "name": "jupyter-labs-eda-dataviz.ipynb",
      "provenance": [],
      "include_colab_link": true
    }
  },
  "nbformat": 4,
  "nbformat_minor": 0
}