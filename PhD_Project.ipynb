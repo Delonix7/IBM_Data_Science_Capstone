{
  "nbformat": 4,
  "nbformat_minor": 0,
  "metadata": {
    "colab": {
      "provenance": [],
      "authorship_tag": "ABX9TyP3kX3IUEHARo7bWEtC6ygQ",
      "include_colab_link": true
    },
    "kernelspec": {
      "name": "python3",
      "display_name": "Python 3"
    },
    "language_info": {
      "name": "python"
    }
  },
  "cells": [
    {
      "cell_type": "markdown",
      "metadata": {
        "id": "view-in-github",
        "colab_type": "text"
      },
      "source": [
        "<a href=\"https://colab.research.google.com/github/Delonix7/IBM_Data_Science_Capstone/blob/main/PhD_Project.ipynb\" target=\"_parent\"><img src=\"https://colab.research.google.com/assets/colab-badge.svg\" alt=\"Open In Colab\"/></a>"
      ]
    },
    {
      "cell_type": "markdown",
      "source": [
        "# A1/A2 Contribution to Dilutional Hyponatremia in Liver Cirrhosis"
      ],
      "metadata": {
        "id": "UiKCWZYtBD6Z"
      }
    },
    {
      "cell_type": "markdown",
      "source": [
        "##Importing data"
      ],
      "metadata": {
        "id": "PiKDQatVBQer"
      }
    },
    {
      "cell_type": "code",
      "source": [
        "import pandas as pd\n",
        "import matplotlib.pyplot  as plt\n",
        "%matplotlib inline\n",
        "import numpy as  np\n",
        "import seaborn as sns\n",
        "from scipy.stats import sem\n",
        "#authenticate colabs to allow access to Google Drive\n",
        "from pydrive.auth import GoogleAuth\n",
        "from pydrive.drive import GoogleDrive\n",
        "from google.colab import auth\n",
        "from oauth2client.client import GoogleCredentials\n",
        "# Authenticate and create the PyDrive client."
      ],
      "metadata": {
        "id": "duTaf0yQBsYZ"
      },
      "execution_count": null,
      "outputs": []
    },
    {
      "cell_type": "code",
      "source": [
        "auth.authenticate_user()\n",
        "gauth = GoogleAuth()\n",
        "gauth.credentials = GoogleCredentials.get_application_default()\n",
        "drive = GoogleDrive(gauth)"
      ],
      "metadata": {
        "id": "jcQs5J5JBO36"
      },
      "execution_count": null,
      "outputs": []
    },
    {
      "cell_type": "code",
      "source": [
        "def get_data(url, file_name):\n",
        "  dataframe_name = pd.DataFrame()\n",
        "  data_url_list = url.split('/')\n",
        "  downloaded = drive.CreateFile({'id':data_url_list[5]})\n",
        "  downloaded.GetContentFile(file_name)\n",
        "  dataframe_name = pd.read_csv(file_name)\n",
        "  return dataframe_name"
      ],
      "metadata": {
        "id": "MZjIo75dBg47"
      },
      "execution_count": null,
      "outputs": []
    },
    {
      "cell_type": "code",
      "source": [
        "url = 'https://drive.google.com/file/d/1kj6cs2u_ZJR6U0cvCpdwKqOVkhgUhBId/view?usp=sharing'\n",
        "file_name = 'Sap_project_data.csv'"
      ],
      "metadata": {
        "id": "3ID2ZWtpCWhj"
      },
      "execution_count": null,
      "outputs": []
    },
    {
      "cell_type": "code",
      "source": [
        "sap_project_data = get_data(url, file_name)"
      ],
      "metadata": {
        "id": "P5lWJ93QChqU"
      },
      "execution_count": null,
      "outputs": []
    },
    {
      "cell_type": "code",
      "source": [
        "sap_project_data.head()"
      ],
      "metadata": {
        "colab": {
          "base_uri": "https://localhost:8080/",
          "height": 250
        },
        "id": "MfsVu0VECoBh",
        "outputId": "06c3402c-51ff-4709-922e-86c6a2838ef9"
      },
      "execution_count": null,
      "outputs": [
        {
          "output_type": "execute_result",
          "data": {
            "text/plain": [
              "    Rat ID Injection Surgery  L:B ratio  CPP conc  CPP as ratios  Osmolality  \\\n",
              "0  R19-134      DSAP     BDL   0.056566  111.4885       1.561760       304.0   \n",
              "1  R19-135      DSAP     BDL   0.041700   81.4151       1.342934       298.0   \n",
              "2  R19-270      DSAP     BDL   0.078125  227.1039       1.094452       302.5   \n",
              "3  R19-271      DSAP     BDL   0.041000  307.5000       1.096000       301.0   \n",
              "4  R19-272      DSAP     BDL   0.066946  151.4877       1.481950       297.5   \n",
              "\n",
              "   Crit  A1 DBH  A1 dFosB  A1 DL  A2 DBH  A2 dFosB  A2 DL  SON_dFosB  SON_DL  \n",
              "0  42.5      43        19      3      24        48      1       46.0    19.0  \n",
              "1  46.5      36        25      0      28        65      2       51.0    29.0  \n",
              "2  47.0      46        25      1      29        56      2       21.0     8.0  \n",
              "3  48.0      34        18      0      28        36      0       22.0    15.0  \n",
              "4  42.0      53        30      0      44        55      0       51.0    15.0  "
            ],
            "text/html": [
              "\n",
              "  <div id=\"df-7329c176-2365-4298-ab60-e46b5a2f354a\">\n",
              "    <div class=\"colab-df-container\">\n",
              "      <div>\n",
              "<style scoped>\n",
              "    .dataframe tbody tr th:only-of-type {\n",
              "        vertical-align: middle;\n",
              "    }\n",
              "\n",
              "    .dataframe tbody tr th {\n",
              "        vertical-align: top;\n",
              "    }\n",
              "\n",
              "    .dataframe thead th {\n",
              "        text-align: right;\n",
              "    }\n",
              "</style>\n",
              "<table border=\"1\" class=\"dataframe\">\n",
              "  <thead>\n",
              "    <tr style=\"text-align: right;\">\n",
              "      <th></th>\n",
              "      <th>Rat ID</th>\n",
              "      <th>Injection</th>\n",
              "      <th>Surgery</th>\n",
              "      <th>L:B ratio</th>\n",
              "      <th>CPP conc</th>\n",
              "      <th>CPP as ratios</th>\n",
              "      <th>Osmolality</th>\n",
              "      <th>Crit</th>\n",
              "      <th>A1 DBH</th>\n",
              "      <th>A1 dFosB</th>\n",
              "      <th>A1 DL</th>\n",
              "      <th>A2 DBH</th>\n",
              "      <th>A2 dFosB</th>\n",
              "      <th>A2 DL</th>\n",
              "      <th>SON_dFosB</th>\n",
              "      <th>SON_DL</th>\n",
              "    </tr>\n",
              "  </thead>\n",
              "  <tbody>\n",
              "    <tr>\n",
              "      <th>0</th>\n",
              "      <td>R19-134</td>\n",
              "      <td>DSAP</td>\n",
              "      <td>BDL</td>\n",
              "      <td>0.056566</td>\n",
              "      <td>111.4885</td>\n",
              "      <td>1.561760</td>\n",
              "      <td>304.0</td>\n",
              "      <td>42.5</td>\n",
              "      <td>43</td>\n",
              "      <td>19</td>\n",
              "      <td>3</td>\n",
              "      <td>24</td>\n",
              "      <td>48</td>\n",
              "      <td>1</td>\n",
              "      <td>46.0</td>\n",
              "      <td>19.0</td>\n",
              "    </tr>\n",
              "    <tr>\n",
              "      <th>1</th>\n",
              "      <td>R19-135</td>\n",
              "      <td>DSAP</td>\n",
              "      <td>BDL</td>\n",
              "      <td>0.041700</td>\n",
              "      <td>81.4151</td>\n",
              "      <td>1.342934</td>\n",
              "      <td>298.0</td>\n",
              "      <td>46.5</td>\n",
              "      <td>36</td>\n",
              "      <td>25</td>\n",
              "      <td>0</td>\n",
              "      <td>28</td>\n",
              "      <td>65</td>\n",
              "      <td>2</td>\n",
              "      <td>51.0</td>\n",
              "      <td>29.0</td>\n",
              "    </tr>\n",
              "    <tr>\n",
              "      <th>2</th>\n",
              "      <td>R19-270</td>\n",
              "      <td>DSAP</td>\n",
              "      <td>BDL</td>\n",
              "      <td>0.078125</td>\n",
              "      <td>227.1039</td>\n",
              "      <td>1.094452</td>\n",
              "      <td>302.5</td>\n",
              "      <td>47.0</td>\n",
              "      <td>46</td>\n",
              "      <td>25</td>\n",
              "      <td>1</td>\n",
              "      <td>29</td>\n",
              "      <td>56</td>\n",
              "      <td>2</td>\n",
              "      <td>21.0</td>\n",
              "      <td>8.0</td>\n",
              "    </tr>\n",
              "    <tr>\n",
              "      <th>3</th>\n",
              "      <td>R19-271</td>\n",
              "      <td>DSAP</td>\n",
              "      <td>BDL</td>\n",
              "      <td>0.041000</td>\n",
              "      <td>307.5000</td>\n",
              "      <td>1.096000</td>\n",
              "      <td>301.0</td>\n",
              "      <td>48.0</td>\n",
              "      <td>34</td>\n",
              "      <td>18</td>\n",
              "      <td>0</td>\n",
              "      <td>28</td>\n",
              "      <td>36</td>\n",
              "      <td>0</td>\n",
              "      <td>22.0</td>\n",
              "      <td>15.0</td>\n",
              "    </tr>\n",
              "    <tr>\n",
              "      <th>4</th>\n",
              "      <td>R19-272</td>\n",
              "      <td>DSAP</td>\n",
              "      <td>BDL</td>\n",
              "      <td>0.066946</td>\n",
              "      <td>151.4877</td>\n",
              "      <td>1.481950</td>\n",
              "      <td>297.5</td>\n",
              "      <td>42.0</td>\n",
              "      <td>53</td>\n",
              "      <td>30</td>\n",
              "      <td>0</td>\n",
              "      <td>44</td>\n",
              "      <td>55</td>\n",
              "      <td>0</td>\n",
              "      <td>51.0</td>\n",
              "      <td>15.0</td>\n",
              "    </tr>\n",
              "  </tbody>\n",
              "</table>\n",
              "</div>\n",
              "      <button class=\"colab-df-convert\" onclick=\"convertToInteractive('df-7329c176-2365-4298-ab60-e46b5a2f354a')\"\n",
              "              title=\"Convert this dataframe to an interactive table.\"\n",
              "              style=\"display:none;\">\n",
              "        \n",
              "  <svg xmlns=\"http://www.w3.org/2000/svg\" height=\"24px\"viewBox=\"0 0 24 24\"\n",
              "       width=\"24px\">\n",
              "    <path d=\"M0 0h24v24H0V0z\" fill=\"none\"/>\n",
              "    <path d=\"M18.56 5.44l.94 2.06.94-2.06 2.06-.94-2.06-.94-.94-2.06-.94 2.06-2.06.94zm-11 1L8.5 8.5l.94-2.06 2.06-.94-2.06-.94L8.5 2.5l-.94 2.06-2.06.94zm10 10l.94 2.06.94-2.06 2.06-.94-2.06-.94-.94-2.06-.94 2.06-2.06.94z\"/><path d=\"M17.41 7.96l-1.37-1.37c-.4-.4-.92-.59-1.43-.59-.52 0-1.04.2-1.43.59L10.3 9.45l-7.72 7.72c-.78.78-.78 2.05 0 2.83L4 21.41c.39.39.9.59 1.41.59.51 0 1.02-.2 1.41-.59l7.78-7.78 2.81-2.81c.8-.78.8-2.07 0-2.86zM5.41 20L4 18.59l7.72-7.72 1.47 1.35L5.41 20z\"/>\n",
              "  </svg>\n",
              "      </button>\n",
              "      \n",
              "  <style>\n",
              "    .colab-df-container {\n",
              "      display:flex;\n",
              "      flex-wrap:wrap;\n",
              "      gap: 12px;\n",
              "    }\n",
              "\n",
              "    .colab-df-convert {\n",
              "      background-color: #E8F0FE;\n",
              "      border: none;\n",
              "      border-radius: 50%;\n",
              "      cursor: pointer;\n",
              "      display: none;\n",
              "      fill: #1967D2;\n",
              "      height: 32px;\n",
              "      padding: 0 0 0 0;\n",
              "      width: 32px;\n",
              "    }\n",
              "\n",
              "    .colab-df-convert:hover {\n",
              "      background-color: #E2EBFA;\n",
              "      box-shadow: 0px 1px 2px rgba(60, 64, 67, 0.3), 0px 1px 3px 1px rgba(60, 64, 67, 0.15);\n",
              "      fill: #174EA6;\n",
              "    }\n",
              "\n",
              "    [theme=dark] .colab-df-convert {\n",
              "      background-color: #3B4455;\n",
              "      fill: #D2E3FC;\n",
              "    }\n",
              "\n",
              "    [theme=dark] .colab-df-convert:hover {\n",
              "      background-color: #434B5C;\n",
              "      box-shadow: 0px 1px 3px 1px rgba(0, 0, 0, 0.15);\n",
              "      filter: drop-shadow(0px 1px 2px rgba(0, 0, 0, 0.3));\n",
              "      fill: #FFFFFF;\n",
              "    }\n",
              "  </style>\n",
              "\n",
              "      <script>\n",
              "        const buttonEl =\n",
              "          document.querySelector('#df-7329c176-2365-4298-ab60-e46b5a2f354a button.colab-df-convert');\n",
              "        buttonEl.style.display =\n",
              "          google.colab.kernel.accessAllowed ? 'block' : 'none';\n",
              "\n",
              "        async function convertToInteractive(key) {\n",
              "          const element = document.querySelector('#df-7329c176-2365-4298-ab60-e46b5a2f354a');\n",
              "          const dataTable =\n",
              "            await google.colab.kernel.invokeFunction('convertToInteractive',\n",
              "                                                     [key], {});\n",
              "          if (!dataTable) return;\n",
              "\n",
              "          const docLinkHtml = 'Like what you see? Visit the ' +\n",
              "            '<a target=\"_blank\" href=https://colab.research.google.com/notebooks/data_table.ipynb>data table notebook</a>'\n",
              "            + ' to learn more about interactive tables.';\n",
              "          element.innerHTML = '';\n",
              "          dataTable['output_type'] = 'display_data';\n",
              "          await google.colab.output.renderOutput(dataTable, element);\n",
              "          const docLink = document.createElement('div');\n",
              "          docLink.innerHTML = docLinkHtml;\n",
              "          element.appendChild(docLink);\n",
              "        }\n",
              "      </script>\n",
              "    </div>\n",
              "  </div>\n",
              "  "
            ]
          },
          "metadata": {},
          "execution_count": 6
        }
      ]
    },
    {
      "cell_type": "code",
      "source": [
        "#Replacing spaces in column names with hyphens\n",
        "sap_project_data.columns = sap_project_data.columns.str.lower()\n",
        "sap_project_data.columns = sap_project_data.columns.str.replace(' ', '_')"
      ],
      "metadata": {
        "id": "9oahRxoKCt56"
      },
      "execution_count": null,
      "outputs": []
    },
    {
      "cell_type": "code",
      "source": [
        "sap_project_data.head()"
      ],
      "metadata": {
        "colab": {
          "base_uri": "https://localhost:8080/",
          "height": 206
        },
        "id": "kYvNo84cDkVV",
        "outputId": "0cb9d289-219a-468a-d11f-d1fd8a26b7e3"
      },
      "execution_count": null,
      "outputs": [
        {
          "output_type": "execute_result",
          "data": {
            "text/plain": [
              "    rat_id injection surgery  l:b_ratio  cpp_conc  cpp_as_ratios  osmolality  \\\n",
              "0  R19-134      DSAP     BDL   0.056566  111.4885       1.561760       304.0   \n",
              "1  R19-135      DSAP     BDL   0.041700   81.4151       1.342934       298.0   \n",
              "2  R19-270      DSAP     BDL   0.078125  227.1039       1.094452       302.5   \n",
              "3  R19-271      DSAP     BDL   0.041000  307.5000       1.096000       301.0   \n",
              "4  R19-272      DSAP     BDL   0.066946  151.4877       1.481950       297.5   \n",
              "\n",
              "   crit  a1_dbh  a1_dfosb  a1_dl  a2_dbh  a2_dfosb  a2_dl  son_dfosb  son_dl  \n",
              "0  42.5      43        19      3      24        48      1       46.0    19.0  \n",
              "1  46.5      36        25      0      28        65      2       51.0    29.0  \n",
              "2  47.0      46        25      1      29        56      2       21.0     8.0  \n",
              "3  48.0      34        18      0      28        36      0       22.0    15.0  \n",
              "4  42.0      53        30      0      44        55      0       51.0    15.0  "
            ],
            "text/html": [
              "\n",
              "  <div id=\"df-824f4e0c-731c-4901-8b71-b06051317313\">\n",
              "    <div class=\"colab-df-container\">\n",
              "      <div>\n",
              "<style scoped>\n",
              "    .dataframe tbody tr th:only-of-type {\n",
              "        vertical-align: middle;\n",
              "    }\n",
              "\n",
              "    .dataframe tbody tr th {\n",
              "        vertical-align: top;\n",
              "    }\n",
              "\n",
              "    .dataframe thead th {\n",
              "        text-align: right;\n",
              "    }\n",
              "</style>\n",
              "<table border=\"1\" class=\"dataframe\">\n",
              "  <thead>\n",
              "    <tr style=\"text-align: right;\">\n",
              "      <th></th>\n",
              "      <th>rat_id</th>\n",
              "      <th>injection</th>\n",
              "      <th>surgery</th>\n",
              "      <th>l:b_ratio</th>\n",
              "      <th>cpp_conc</th>\n",
              "      <th>cpp_as_ratios</th>\n",
              "      <th>osmolality</th>\n",
              "      <th>crit</th>\n",
              "      <th>a1_dbh</th>\n",
              "      <th>a1_dfosb</th>\n",
              "      <th>a1_dl</th>\n",
              "      <th>a2_dbh</th>\n",
              "      <th>a2_dfosb</th>\n",
              "      <th>a2_dl</th>\n",
              "      <th>son_dfosb</th>\n",
              "      <th>son_dl</th>\n",
              "    </tr>\n",
              "  </thead>\n",
              "  <tbody>\n",
              "    <tr>\n",
              "      <th>0</th>\n",
              "      <td>R19-134</td>\n",
              "      <td>DSAP</td>\n",
              "      <td>BDL</td>\n",
              "      <td>0.056566</td>\n",
              "      <td>111.4885</td>\n",
              "      <td>1.561760</td>\n",
              "      <td>304.0</td>\n",
              "      <td>42.5</td>\n",
              "      <td>43</td>\n",
              "      <td>19</td>\n",
              "      <td>3</td>\n",
              "      <td>24</td>\n",
              "      <td>48</td>\n",
              "      <td>1</td>\n",
              "      <td>46.0</td>\n",
              "      <td>19.0</td>\n",
              "    </tr>\n",
              "    <tr>\n",
              "      <th>1</th>\n",
              "      <td>R19-135</td>\n",
              "      <td>DSAP</td>\n",
              "      <td>BDL</td>\n",
              "      <td>0.041700</td>\n",
              "      <td>81.4151</td>\n",
              "      <td>1.342934</td>\n",
              "      <td>298.0</td>\n",
              "      <td>46.5</td>\n",
              "      <td>36</td>\n",
              "      <td>25</td>\n",
              "      <td>0</td>\n",
              "      <td>28</td>\n",
              "      <td>65</td>\n",
              "      <td>2</td>\n",
              "      <td>51.0</td>\n",
              "      <td>29.0</td>\n",
              "    </tr>\n",
              "    <tr>\n",
              "      <th>2</th>\n",
              "      <td>R19-270</td>\n",
              "      <td>DSAP</td>\n",
              "      <td>BDL</td>\n",
              "      <td>0.078125</td>\n",
              "      <td>227.1039</td>\n",
              "      <td>1.094452</td>\n",
              "      <td>302.5</td>\n",
              "      <td>47.0</td>\n",
              "      <td>46</td>\n",
              "      <td>25</td>\n",
              "      <td>1</td>\n",
              "      <td>29</td>\n",
              "      <td>56</td>\n",
              "      <td>2</td>\n",
              "      <td>21.0</td>\n",
              "      <td>8.0</td>\n",
              "    </tr>\n",
              "    <tr>\n",
              "      <th>3</th>\n",
              "      <td>R19-271</td>\n",
              "      <td>DSAP</td>\n",
              "      <td>BDL</td>\n",
              "      <td>0.041000</td>\n",
              "      <td>307.5000</td>\n",
              "      <td>1.096000</td>\n",
              "      <td>301.0</td>\n",
              "      <td>48.0</td>\n",
              "      <td>34</td>\n",
              "      <td>18</td>\n",
              "      <td>0</td>\n",
              "      <td>28</td>\n",
              "      <td>36</td>\n",
              "      <td>0</td>\n",
              "      <td>22.0</td>\n",
              "      <td>15.0</td>\n",
              "    </tr>\n",
              "    <tr>\n",
              "      <th>4</th>\n",
              "      <td>R19-272</td>\n",
              "      <td>DSAP</td>\n",
              "      <td>BDL</td>\n",
              "      <td>0.066946</td>\n",
              "      <td>151.4877</td>\n",
              "      <td>1.481950</td>\n",
              "      <td>297.5</td>\n",
              "      <td>42.0</td>\n",
              "      <td>53</td>\n",
              "      <td>30</td>\n",
              "      <td>0</td>\n",
              "      <td>44</td>\n",
              "      <td>55</td>\n",
              "      <td>0</td>\n",
              "      <td>51.0</td>\n",
              "      <td>15.0</td>\n",
              "    </tr>\n",
              "  </tbody>\n",
              "</table>\n",
              "</div>\n",
              "      <button class=\"colab-df-convert\" onclick=\"convertToInteractive('df-824f4e0c-731c-4901-8b71-b06051317313')\"\n",
              "              title=\"Convert this dataframe to an interactive table.\"\n",
              "              style=\"display:none;\">\n",
              "        \n",
              "  <svg xmlns=\"http://www.w3.org/2000/svg\" height=\"24px\"viewBox=\"0 0 24 24\"\n",
              "       width=\"24px\">\n",
              "    <path d=\"M0 0h24v24H0V0z\" fill=\"none\"/>\n",
              "    <path d=\"M18.56 5.44l.94 2.06.94-2.06 2.06-.94-2.06-.94-.94-2.06-.94 2.06-2.06.94zm-11 1L8.5 8.5l.94-2.06 2.06-.94-2.06-.94L8.5 2.5l-.94 2.06-2.06.94zm10 10l.94 2.06.94-2.06 2.06-.94-2.06-.94-.94-2.06-.94 2.06-2.06.94z\"/><path d=\"M17.41 7.96l-1.37-1.37c-.4-.4-.92-.59-1.43-.59-.52 0-1.04.2-1.43.59L10.3 9.45l-7.72 7.72c-.78.78-.78 2.05 0 2.83L4 21.41c.39.39.9.59 1.41.59.51 0 1.02-.2 1.41-.59l7.78-7.78 2.81-2.81c.8-.78.8-2.07 0-2.86zM5.41 20L4 18.59l7.72-7.72 1.47 1.35L5.41 20z\"/>\n",
              "  </svg>\n",
              "      </button>\n",
              "      \n",
              "  <style>\n",
              "    .colab-df-container {\n",
              "      display:flex;\n",
              "      flex-wrap:wrap;\n",
              "      gap: 12px;\n",
              "    }\n",
              "\n",
              "    .colab-df-convert {\n",
              "      background-color: #E8F0FE;\n",
              "      border: none;\n",
              "      border-radius: 50%;\n",
              "      cursor: pointer;\n",
              "      display: none;\n",
              "      fill: #1967D2;\n",
              "      height: 32px;\n",
              "      padding: 0 0 0 0;\n",
              "      width: 32px;\n",
              "    }\n",
              "\n",
              "    .colab-df-convert:hover {\n",
              "      background-color: #E2EBFA;\n",
              "      box-shadow: 0px 1px 2px rgba(60, 64, 67, 0.3), 0px 1px 3px 1px rgba(60, 64, 67, 0.15);\n",
              "      fill: #174EA6;\n",
              "    }\n",
              "\n",
              "    [theme=dark] .colab-df-convert {\n",
              "      background-color: #3B4455;\n",
              "      fill: #D2E3FC;\n",
              "    }\n",
              "\n",
              "    [theme=dark] .colab-df-convert:hover {\n",
              "      background-color: #434B5C;\n",
              "      box-shadow: 0px 1px 3px 1px rgba(0, 0, 0, 0.15);\n",
              "      filter: drop-shadow(0px 1px 2px rgba(0, 0, 0, 0.3));\n",
              "      fill: #FFFFFF;\n",
              "    }\n",
              "  </style>\n",
              "\n",
              "      <script>\n",
              "        const buttonEl =\n",
              "          document.querySelector('#df-824f4e0c-731c-4901-8b71-b06051317313 button.colab-df-convert');\n",
              "        buttonEl.style.display =\n",
              "          google.colab.kernel.accessAllowed ? 'block' : 'none';\n",
              "\n",
              "        async function convertToInteractive(key) {\n",
              "          const element = document.querySelector('#df-824f4e0c-731c-4901-8b71-b06051317313');\n",
              "          const dataTable =\n",
              "            await google.colab.kernel.invokeFunction('convertToInteractive',\n",
              "                                                     [key], {});\n",
              "          if (!dataTable) return;\n",
              "\n",
              "          const docLinkHtml = 'Like what you see? Visit the ' +\n",
              "            '<a target=\"_blank\" href=https://colab.research.google.com/notebooks/data_table.ipynb>data table notebook</a>'\n",
              "            + ' to learn more about interactive tables.';\n",
              "          element.innerHTML = '';\n",
              "          dataTable['output_type'] = 'display_data';\n",
              "          await google.colab.output.renderOutput(dataTable, element);\n",
              "          const docLink = document.createElement('div');\n",
              "          docLink.innerHTML = docLinkHtml;\n",
              "          element.appendChild(docLink);\n",
              "        }\n",
              "      </script>\n",
              "    </div>\n",
              "  </div>\n",
              "  "
            ]
          },
          "metadata": {},
          "execution_count": 8
        }
      ]
    },
    {
      "cell_type": "code",
      "source": [
        "sap_project_data.replace('-', np.NaN, inplace = True)"
      ],
      "metadata": {
        "id": "artR_JhykbUo"
      },
      "execution_count": null,
      "outputs": []
    },
    {
      "cell_type": "code",
      "source": [
        "sap_project_data.head()"
      ],
      "metadata": {
        "colab": {
          "base_uri": "https://localhost:8080/",
          "height": 206
        },
        "id": "vJ-cdTFwAs91",
        "outputId": "7a5452ad-fe31-4f48-f71f-ecba3a1f9232"
      },
      "execution_count": null,
      "outputs": [
        {
          "output_type": "execute_result",
          "data": {
            "text/plain": [
              "    rat_id injection surgery  l:b_ratio  cpp_conc  cpp_as_ratios  osmolality  \\\n",
              "0  R19-134      DSAP     BDL   0.056566  111.4885       1.561760       304.0   \n",
              "1  R19-135      DSAP     BDL   0.041700   81.4151       1.342934       298.0   \n",
              "2  R19-270      DSAP     BDL   0.078125  227.1039       1.094452       302.5   \n",
              "3  R19-271      DSAP     BDL   0.041000  307.5000       1.096000       301.0   \n",
              "4  R19-272      DSAP     BDL   0.066946  151.4877       1.481950       297.5   \n",
              "\n",
              "   crit  a1_dbh  a1_dfosb  a1_dl  a2_dbh  a2_dfosb  a2_dl  son_dfosb  son_dl  \n",
              "0  42.5      43        19      3      24        48      1       46.0    19.0  \n",
              "1  46.5      36        25      0      28        65      2       51.0    29.0  \n",
              "2  47.0      46        25      1      29        56      2       21.0     8.0  \n",
              "3  48.0      34        18      0      28        36      0       22.0    15.0  \n",
              "4  42.0      53        30      0      44        55      0       51.0    15.0  "
            ],
            "text/html": [
              "\n",
              "  <div id=\"df-a47bc813-6a83-42b7-9910-fd5d98d7d317\">\n",
              "    <div class=\"colab-df-container\">\n",
              "      <div>\n",
              "<style scoped>\n",
              "    .dataframe tbody tr th:only-of-type {\n",
              "        vertical-align: middle;\n",
              "    }\n",
              "\n",
              "    .dataframe tbody tr th {\n",
              "        vertical-align: top;\n",
              "    }\n",
              "\n",
              "    .dataframe thead th {\n",
              "        text-align: right;\n",
              "    }\n",
              "</style>\n",
              "<table border=\"1\" class=\"dataframe\">\n",
              "  <thead>\n",
              "    <tr style=\"text-align: right;\">\n",
              "      <th></th>\n",
              "      <th>rat_id</th>\n",
              "      <th>injection</th>\n",
              "      <th>surgery</th>\n",
              "      <th>l:b_ratio</th>\n",
              "      <th>cpp_conc</th>\n",
              "      <th>cpp_as_ratios</th>\n",
              "      <th>osmolality</th>\n",
              "      <th>crit</th>\n",
              "      <th>a1_dbh</th>\n",
              "      <th>a1_dfosb</th>\n",
              "      <th>a1_dl</th>\n",
              "      <th>a2_dbh</th>\n",
              "      <th>a2_dfosb</th>\n",
              "      <th>a2_dl</th>\n",
              "      <th>son_dfosb</th>\n",
              "      <th>son_dl</th>\n",
              "    </tr>\n",
              "  </thead>\n",
              "  <tbody>\n",
              "    <tr>\n",
              "      <th>0</th>\n",
              "      <td>R19-134</td>\n",
              "      <td>DSAP</td>\n",
              "      <td>BDL</td>\n",
              "      <td>0.056566</td>\n",
              "      <td>111.4885</td>\n",
              "      <td>1.561760</td>\n",
              "      <td>304.0</td>\n",
              "      <td>42.5</td>\n",
              "      <td>43</td>\n",
              "      <td>19</td>\n",
              "      <td>3</td>\n",
              "      <td>24</td>\n",
              "      <td>48</td>\n",
              "      <td>1</td>\n",
              "      <td>46.0</td>\n",
              "      <td>19.0</td>\n",
              "    </tr>\n",
              "    <tr>\n",
              "      <th>1</th>\n",
              "      <td>R19-135</td>\n",
              "      <td>DSAP</td>\n",
              "      <td>BDL</td>\n",
              "      <td>0.041700</td>\n",
              "      <td>81.4151</td>\n",
              "      <td>1.342934</td>\n",
              "      <td>298.0</td>\n",
              "      <td>46.5</td>\n",
              "      <td>36</td>\n",
              "      <td>25</td>\n",
              "      <td>0</td>\n",
              "      <td>28</td>\n",
              "      <td>65</td>\n",
              "      <td>2</td>\n",
              "      <td>51.0</td>\n",
              "      <td>29.0</td>\n",
              "    </tr>\n",
              "    <tr>\n",
              "      <th>2</th>\n",
              "      <td>R19-270</td>\n",
              "      <td>DSAP</td>\n",
              "      <td>BDL</td>\n",
              "      <td>0.078125</td>\n",
              "      <td>227.1039</td>\n",
              "      <td>1.094452</td>\n",
              "      <td>302.5</td>\n",
              "      <td>47.0</td>\n",
              "      <td>46</td>\n",
              "      <td>25</td>\n",
              "      <td>1</td>\n",
              "      <td>29</td>\n",
              "      <td>56</td>\n",
              "      <td>2</td>\n",
              "      <td>21.0</td>\n",
              "      <td>8.0</td>\n",
              "    </tr>\n",
              "    <tr>\n",
              "      <th>3</th>\n",
              "      <td>R19-271</td>\n",
              "      <td>DSAP</td>\n",
              "      <td>BDL</td>\n",
              "      <td>0.041000</td>\n",
              "      <td>307.5000</td>\n",
              "      <td>1.096000</td>\n",
              "      <td>301.0</td>\n",
              "      <td>48.0</td>\n",
              "      <td>34</td>\n",
              "      <td>18</td>\n",
              "      <td>0</td>\n",
              "      <td>28</td>\n",
              "      <td>36</td>\n",
              "      <td>0</td>\n",
              "      <td>22.0</td>\n",
              "      <td>15.0</td>\n",
              "    </tr>\n",
              "    <tr>\n",
              "      <th>4</th>\n",
              "      <td>R19-272</td>\n",
              "      <td>DSAP</td>\n",
              "      <td>BDL</td>\n",
              "      <td>0.066946</td>\n",
              "      <td>151.4877</td>\n",
              "      <td>1.481950</td>\n",
              "      <td>297.5</td>\n",
              "      <td>42.0</td>\n",
              "      <td>53</td>\n",
              "      <td>30</td>\n",
              "      <td>0</td>\n",
              "      <td>44</td>\n",
              "      <td>55</td>\n",
              "      <td>0</td>\n",
              "      <td>51.0</td>\n",
              "      <td>15.0</td>\n",
              "    </tr>\n",
              "  </tbody>\n",
              "</table>\n",
              "</div>\n",
              "      <button class=\"colab-df-convert\" onclick=\"convertToInteractive('df-a47bc813-6a83-42b7-9910-fd5d98d7d317')\"\n",
              "              title=\"Convert this dataframe to an interactive table.\"\n",
              "              style=\"display:none;\">\n",
              "        \n",
              "  <svg xmlns=\"http://www.w3.org/2000/svg\" height=\"24px\"viewBox=\"0 0 24 24\"\n",
              "       width=\"24px\">\n",
              "    <path d=\"M0 0h24v24H0V0z\" fill=\"none\"/>\n",
              "    <path d=\"M18.56 5.44l.94 2.06.94-2.06 2.06-.94-2.06-.94-.94-2.06-.94 2.06-2.06.94zm-11 1L8.5 8.5l.94-2.06 2.06-.94-2.06-.94L8.5 2.5l-.94 2.06-2.06.94zm10 10l.94 2.06.94-2.06 2.06-.94-2.06-.94-.94-2.06-.94 2.06-2.06.94z\"/><path d=\"M17.41 7.96l-1.37-1.37c-.4-.4-.92-.59-1.43-.59-.52 0-1.04.2-1.43.59L10.3 9.45l-7.72 7.72c-.78.78-.78 2.05 0 2.83L4 21.41c.39.39.9.59 1.41.59.51 0 1.02-.2 1.41-.59l7.78-7.78 2.81-2.81c.8-.78.8-2.07 0-2.86zM5.41 20L4 18.59l7.72-7.72 1.47 1.35L5.41 20z\"/>\n",
              "  </svg>\n",
              "      </button>\n",
              "      \n",
              "  <style>\n",
              "    .colab-df-container {\n",
              "      display:flex;\n",
              "      flex-wrap:wrap;\n",
              "      gap: 12px;\n",
              "    }\n",
              "\n",
              "    .colab-df-convert {\n",
              "      background-color: #E8F0FE;\n",
              "      border: none;\n",
              "      border-radius: 50%;\n",
              "      cursor: pointer;\n",
              "      display: none;\n",
              "      fill: #1967D2;\n",
              "      height: 32px;\n",
              "      padding: 0 0 0 0;\n",
              "      width: 32px;\n",
              "    }\n",
              "\n",
              "    .colab-df-convert:hover {\n",
              "      background-color: #E2EBFA;\n",
              "      box-shadow: 0px 1px 2px rgba(60, 64, 67, 0.3), 0px 1px 3px 1px rgba(60, 64, 67, 0.15);\n",
              "      fill: #174EA6;\n",
              "    }\n",
              "\n",
              "    [theme=dark] .colab-df-convert {\n",
              "      background-color: #3B4455;\n",
              "      fill: #D2E3FC;\n",
              "    }\n",
              "\n",
              "    [theme=dark] .colab-df-convert:hover {\n",
              "      background-color: #434B5C;\n",
              "      box-shadow: 0px 1px 3px 1px rgba(0, 0, 0, 0.15);\n",
              "      filter: drop-shadow(0px 1px 2px rgba(0, 0, 0, 0.3));\n",
              "      fill: #FFFFFF;\n",
              "    }\n",
              "  </style>\n",
              "\n",
              "      <script>\n",
              "        const buttonEl =\n",
              "          document.querySelector('#df-a47bc813-6a83-42b7-9910-fd5d98d7d317 button.colab-df-convert');\n",
              "        buttonEl.style.display =\n",
              "          google.colab.kernel.accessAllowed ? 'block' : 'none';\n",
              "\n",
              "        async function convertToInteractive(key) {\n",
              "          const element = document.querySelector('#df-a47bc813-6a83-42b7-9910-fd5d98d7d317');\n",
              "          const dataTable =\n",
              "            await google.colab.kernel.invokeFunction('convertToInteractive',\n",
              "                                                     [key], {});\n",
              "          if (!dataTable) return;\n",
              "\n",
              "          const docLinkHtml = 'Like what you see? Visit the ' +\n",
              "            '<a target=\"_blank\" href=https://colab.research.google.com/notebooks/data_table.ipynb>data table notebook</a>'\n",
              "            + ' to learn more about interactive tables.';\n",
              "          element.innerHTML = '';\n",
              "          dataTable['output_type'] = 'display_data';\n",
              "          await google.colab.output.renderOutput(dataTable, element);\n",
              "          const docLink = document.createElement('div');\n",
              "          docLink.innerHTML = docLinkHtml;\n",
              "          element.appendChild(docLink);\n",
              "        }\n",
              "      </script>\n",
              "    </div>\n",
              "  </div>\n",
              "  "
            ]
          },
          "metadata": {},
          "execution_count": 10
        }
      ]
    },
    {
      "cell_type": "code",
      "source": [
        "DSAP_BDL = sap_project_data.loc[sap_project_data['injection'].str.contains('DSAP') & sap_project_data['surgery'].str.contains('BDL')]\n",
        "DSAP_Sham = sap_project_data.loc[sap_project_data['injection'].str.contains('DSAP') & sap_project_data['surgery'].str.contains('Sham')]\n",
        "Veh_BDL = sap_project_data.loc[sap_project_data['injection'].str.contains('Vehicle') & sap_project_data['surgery'].str.contains('BDL')]\n",
        "Veh_Sham = sap_project_data.loc[sap_project_data['injection'].str.contains('Vehicle') & sap_project_data['surgery'].str.contains('Sham')]"
      ],
      "metadata": {
        "id": "LwHur2v8K4W9"
      },
      "execution_count": null,
      "outputs": []
    },
    {
      "cell_type": "code",
      "source": [
        "column_names = list(sap_project_data.columns)"
      ],
      "metadata": {
        "id": "XbNISZ7KhE01"
      },
      "execution_count": null,
      "outputs": []
    },
    {
      "cell_type": "code",
      "source": [
        "column_names.remove('rat_id')\n",
        "column_names.remove('injection')\n",
        "column_names.remove('surgery')"
      ],
      "metadata": {
        "id": "tZkK8oyZ-MpF"
      },
      "execution_count": null,
      "outputs": []
    },
    {
      "cell_type": "code",
      "source": [
        "groups = [DSAP_Sham, DSAP_BDL, Veh_BDL, Veh_Sham]\n",
        "for group in groups:\n",
        "  group.reset_index(inplace = True)"
      ],
      "metadata": {
        "id": "Smx4OpjrDFmV"
      },
      "execution_count": null,
      "outputs": []
    },
    {
      "cell_type": "code",
      "source": [
        "sap_project_data.set_index('rat_id', inplace = True)"
      ],
      "metadata": {
        "id": "KRJyJf0EUfcd"
      },
      "execution_count": null,
      "outputs": []
    },
    {
      "cell_type": "code",
      "source": [
        "class Variables:\n",
        "  def __init__ (self, df1, df2, df3, df4, var):\n",
        "    self.df1 = df1\n",
        "    self.df2 = df2\n",
        "    self.df3 = df3\n",
        "    self.df4 = df4\n",
        "    self.dataframes = [self.df1, self.df2, self.df3, self.df4]\n",
        "    self.var = var\n",
        "    self.series = []\n",
        "    self.new_dataframe = pd.DataFrame(index = range(0, 8))\n",
        "\n",
        "  @property\n",
        "  def create_dataframe(self):\n",
        "    self.new_dataframe = self.new_dataframe.assign(Veh_Sham = Veh_Sham[self.var])\n",
        "    self.new_dataframe = self.new_dataframe.assign(Veh_BDL = Veh_BDL[self.var])\n",
        "    self.new_dataframe = self.new_dataframe.assign(DSAP_Sham = DSAP_Sham[self.var])\n",
        "    self.new_dataframe = self.new_dataframe.assign(DSAP_BDL = DSAP_BDL[self.var])\n",
        "    return self.new_dataframe"
      ],
      "metadata": {
        "id": "YfPgeMuJRf54"
      },
      "execution_count": null,
      "outputs": []
    },
    {
      "cell_type": "code",
      "source": [
        "import time"
      ],
      "metadata": {
        "id": "i7VSyhYf0h07"
      },
      "execution_count": null,
      "outputs": []
    },
    {
      "cell_type": "code",
      "source": [
        "start = time.time()\n",
        "data = {}\n",
        "for column in column_names:\n",
        "  new_object = Variables(DSAP_Sham, DSAP_BDL, Veh_BDL,  Veh_Sham, column)\n",
        "  data[column] = new_object.create_dataframe\n",
        "end = time.time()\n",
        "execution_time = end - start\n",
        "print(f'The function took {execution_time} to run')"
      ],
      "metadata": {
        "id": "0AhLpqZj9b8n",
        "colab": {
          "base_uri": "https://localhost:8080/"
        },
        "outputId": "aa612785-6ad8-4add-fd23-a854f8cfa64e"
      },
      "execution_count": null,
      "outputs": [
        {
          "output_type": "stream",
          "name": "stdout",
          "text": [
            "The function took 0.15118956565856934 to run\n"
          ]
        }
      ]
    },
    {
      "cell_type": "code",
      "source": [
        "data.keys()"
      ],
      "metadata": {
        "colab": {
          "base_uri": "https://localhost:8080/"
        },
        "id": "TNPf5TPECWl0",
        "outputId": "e5feff91-3b0b-4993-af4e-42eafbf6328c"
      },
      "execution_count": null,
      "outputs": [
        {
          "output_type": "execute_result",
          "data": {
            "text/plain": [
              "dict_keys(['l:b_ratio', 'cpp_conc', 'cpp_as_ratios', 'osmolality', 'crit', 'a1_dbh', 'a1_dfosb', 'a1_dl', 'a2_dbh', 'a2_dfosb', 'a2_dl', 'son_dfosb', 'son_dl'])"
            ]
          },
          "metadata": {},
          "execution_count": 19
        }
      ]
    },
    {
      "cell_type": "code",
      "source": [
        "data['osmolality'].corr()"
      ],
      "metadata": {
        "id": "UFSrsQVaJ343",
        "colab": {
          "base_uri": "https://localhost:8080/",
          "height": 175
        },
        "outputId": "d90e96d8-2e71-43f1-c160-573c18838fc7"
      },
      "execution_count": null,
      "outputs": [
        {
          "output_type": "execute_result",
          "data": {
            "text/plain": [
              "           Veh_Sham   Veh_BDL  DSAP_Sham  DSAP_BDL\n",
              "Veh_Sham   1.000000  0.535486   0.597586  0.449877\n",
              "Veh_BDL    0.535486  1.000000   0.258262 -0.088683\n",
              "DSAP_Sham  0.597586  0.258262   1.000000  0.354169\n",
              "DSAP_BDL   0.449877 -0.088683   0.354169  1.000000"
            ],
            "text/html": [
              "\n",
              "  <div id=\"df-ddb1331d-a991-4b08-8220-a4637f24c5d0\">\n",
              "    <div class=\"colab-df-container\">\n",
              "      <div>\n",
              "<style scoped>\n",
              "    .dataframe tbody tr th:only-of-type {\n",
              "        vertical-align: middle;\n",
              "    }\n",
              "\n",
              "    .dataframe tbody tr th {\n",
              "        vertical-align: top;\n",
              "    }\n",
              "\n",
              "    .dataframe thead th {\n",
              "        text-align: right;\n",
              "    }\n",
              "</style>\n",
              "<table border=\"1\" class=\"dataframe\">\n",
              "  <thead>\n",
              "    <tr style=\"text-align: right;\">\n",
              "      <th></th>\n",
              "      <th>Veh_Sham</th>\n",
              "      <th>Veh_BDL</th>\n",
              "      <th>DSAP_Sham</th>\n",
              "      <th>DSAP_BDL</th>\n",
              "    </tr>\n",
              "  </thead>\n",
              "  <tbody>\n",
              "    <tr>\n",
              "      <th>Veh_Sham</th>\n",
              "      <td>1.000000</td>\n",
              "      <td>0.535486</td>\n",
              "      <td>0.597586</td>\n",
              "      <td>0.449877</td>\n",
              "    </tr>\n",
              "    <tr>\n",
              "      <th>Veh_BDL</th>\n",
              "      <td>0.535486</td>\n",
              "      <td>1.000000</td>\n",
              "      <td>0.258262</td>\n",
              "      <td>-0.088683</td>\n",
              "    </tr>\n",
              "    <tr>\n",
              "      <th>DSAP_Sham</th>\n",
              "      <td>0.597586</td>\n",
              "      <td>0.258262</td>\n",
              "      <td>1.000000</td>\n",
              "      <td>0.354169</td>\n",
              "    </tr>\n",
              "    <tr>\n",
              "      <th>DSAP_BDL</th>\n",
              "      <td>0.449877</td>\n",
              "      <td>-0.088683</td>\n",
              "      <td>0.354169</td>\n",
              "      <td>1.000000</td>\n",
              "    </tr>\n",
              "  </tbody>\n",
              "</table>\n",
              "</div>\n",
              "      <button class=\"colab-df-convert\" onclick=\"convertToInteractive('df-ddb1331d-a991-4b08-8220-a4637f24c5d0')\"\n",
              "              title=\"Convert this dataframe to an interactive table.\"\n",
              "              style=\"display:none;\">\n",
              "        \n",
              "  <svg xmlns=\"http://www.w3.org/2000/svg\" height=\"24px\"viewBox=\"0 0 24 24\"\n",
              "       width=\"24px\">\n",
              "    <path d=\"M0 0h24v24H0V0z\" fill=\"none\"/>\n",
              "    <path d=\"M18.56 5.44l.94 2.06.94-2.06 2.06-.94-2.06-.94-.94-2.06-.94 2.06-2.06.94zm-11 1L8.5 8.5l.94-2.06 2.06-.94-2.06-.94L8.5 2.5l-.94 2.06-2.06.94zm10 10l.94 2.06.94-2.06 2.06-.94-2.06-.94-.94-2.06-.94 2.06-2.06.94z\"/><path d=\"M17.41 7.96l-1.37-1.37c-.4-.4-.92-.59-1.43-.59-.52 0-1.04.2-1.43.59L10.3 9.45l-7.72 7.72c-.78.78-.78 2.05 0 2.83L4 21.41c.39.39.9.59 1.41.59.51 0 1.02-.2 1.41-.59l7.78-7.78 2.81-2.81c.8-.78.8-2.07 0-2.86zM5.41 20L4 18.59l7.72-7.72 1.47 1.35L5.41 20z\"/>\n",
              "  </svg>\n",
              "      </button>\n",
              "      \n",
              "  <style>\n",
              "    .colab-df-container {\n",
              "      display:flex;\n",
              "      flex-wrap:wrap;\n",
              "      gap: 12px;\n",
              "    }\n",
              "\n",
              "    .colab-df-convert {\n",
              "      background-color: #E8F0FE;\n",
              "      border: none;\n",
              "      border-radius: 50%;\n",
              "      cursor: pointer;\n",
              "      display: none;\n",
              "      fill: #1967D2;\n",
              "      height: 32px;\n",
              "      padding: 0 0 0 0;\n",
              "      width: 32px;\n",
              "    }\n",
              "\n",
              "    .colab-df-convert:hover {\n",
              "      background-color: #E2EBFA;\n",
              "      box-shadow: 0px 1px 2px rgba(60, 64, 67, 0.3), 0px 1px 3px 1px rgba(60, 64, 67, 0.15);\n",
              "      fill: #174EA6;\n",
              "    }\n",
              "\n",
              "    [theme=dark] .colab-df-convert {\n",
              "      background-color: #3B4455;\n",
              "      fill: #D2E3FC;\n",
              "    }\n",
              "\n",
              "    [theme=dark] .colab-df-convert:hover {\n",
              "      background-color: #434B5C;\n",
              "      box-shadow: 0px 1px 3px 1px rgba(0, 0, 0, 0.15);\n",
              "      filter: drop-shadow(0px 1px 2px rgba(0, 0, 0, 0.3));\n",
              "      fill: #FFFFFF;\n",
              "    }\n",
              "  </style>\n",
              "\n",
              "      <script>\n",
              "        const buttonEl =\n",
              "          document.querySelector('#df-ddb1331d-a991-4b08-8220-a4637f24c5d0 button.colab-df-convert');\n",
              "        buttonEl.style.display =\n",
              "          google.colab.kernel.accessAllowed ? 'block' : 'none';\n",
              "\n",
              "        async function convertToInteractive(key) {\n",
              "          const element = document.querySelector('#df-ddb1331d-a991-4b08-8220-a4637f24c5d0');\n",
              "          const dataTable =\n",
              "            await google.colab.kernel.invokeFunction('convertToInteractive',\n",
              "                                                     [key], {});\n",
              "          if (!dataTable) return;\n",
              "\n",
              "          const docLinkHtml = 'Like what you see? Visit the ' +\n",
              "            '<a target=\"_blank\" href=https://colab.research.google.com/notebooks/data_table.ipynb>data table notebook</a>'\n",
              "            + ' to learn more about interactive tables.';\n",
              "          element.innerHTML = '';\n",
              "          dataTable['output_type'] = 'display_data';\n",
              "          await google.colab.output.renderOutput(dataTable, element);\n",
              "          const docLink = document.createElement('div');\n",
              "          docLink.innerHTML = docLinkHtml;\n",
              "          element.appendChild(docLink);\n",
              "        }\n",
              "      </script>\n",
              "    </div>\n",
              "  </div>\n",
              "  "
            ]
          },
          "metadata": {},
          "execution_count": 20
        }
      ]
    },
    {
      "cell_type": "code",
      "source": [
        "sap_project_data['cpp_as_ratios'].corr(sap_project_data['osmolality'])"
      ],
      "metadata": {
        "id": "xkGLn7wdM-ih",
        "colab": {
          "base_uri": "https://localhost:8080/"
        },
        "outputId": "876c99db-28da-490b-ae1f-73844588b487"
      },
      "execution_count": null,
      "outputs": [
        {
          "output_type": "execute_result",
          "data": {
            "text/plain": [
              "-0.51883244841534"
            ]
          },
          "metadata": {},
          "execution_count": 21
        }
      ]
    },
    {
      "cell_type": "code",
      "source": [
        "def draw_scatter(x, y, data):\n",
        "  plt.scatter(x = data[x], y = data[y])\n",
        "  plt.xlabel(f'{x}')\n",
        "  plt.ylabel(f'{y}')\n",
        "  plt.title(f'{x} vs {y}')\n",
        "  plt.show()"
      ],
      "metadata": {
        "id": "sCvX6bBIHluV"
      },
      "execution_count": null,
      "outputs": []
    },
    {
      "cell_type": "code",
      "source": [
        "sap_project_data['surgery'].value_counts()"
      ],
      "metadata": {
        "colab": {
          "base_uri": "https://localhost:8080/"
        },
        "id": "5boPFBxuT440",
        "outputId": "8656561f-95a6-4bdc-b333-c4c44aaf5a54"
      },
      "execution_count": null,
      "outputs": [
        {
          "output_type": "execute_result",
          "data": {
            "text/plain": [
              "BDL     14\n",
              "Sham    14\n",
              "Name: surgery, dtype: int64"
            ]
          },
          "metadata": {},
          "execution_count": 23
        }
      ]
    },
    {
      "cell_type": "code",
      "source": [
        "# sap_project_data['surgery'].replace({'BDL': 1, 'Sham': 0}, inplace = True)"
      ],
      "metadata": {
        "id": "mDITkPILUSFu"
      },
      "execution_count": null,
      "outputs": []
    },
    {
      "cell_type": "code",
      "source": [
        "# sap_project_data['sham'] = sap_project_data['surgery'] == 'Sham'"
      ],
      "metadata": {
        "id": "s_8WrBC7VYn7"
      },
      "execution_count": null,
      "outputs": []
    },
    {
      "cell_type": "code",
      "source": [
        "# sap_project_data['injection'].value_counts()"
      ],
      "metadata": {
        "id": "5O7a_79ORzrD"
      },
      "execution_count": null,
      "outputs": []
    },
    {
      "cell_type": "code",
      "source": [
        "# for column_x in column_names[0:7]:\n",
        "#   for column_y in column_names[7:]:\n",
        "#     if column_x != column_y:\n",
        "#       draw_scatter(column_x, column_y, sap_project_data)\n"
      ],
      "metadata": {
        "id": "k5aBru0WIt2C"
      },
      "execution_count": null,
      "outputs": []
    },
    {
      "cell_type": "code",
      "source": [
        "sap_project_data_scatter = pd.DataFrame()\n",
        "sap_project_data_scatter['Treatment'] = sap_project_data['injection'] +'_'+ sap_project_data['surgery']\n",
        "for column in column_names:\n",
        "  sap_project_data_scatter[column] = sap_project_data[column]\n",
        "\n",
        "sap_project_data_scatter['Treatment'].replace({'Vehicle_BDL': 'Veh_BDL'}, inplace =True)\n",
        "sap_project_data_scatter['Treatment'].replace({'Vehicle_Sham': 'Veh_Sham'}, inplace =True)"
      ],
      "metadata": {
        "id": "rcfVnkOZnxI1"
      },
      "execution_count": null,
      "outputs": []
    },
    {
      "cell_type": "code",
      "source": [
        "def draw_graphs(data, variable):\n",
        "  data_y = []\n",
        "  data_y_error = []\n",
        "  data_x = list(sap_project_data_scatter['Treatment'].unique())\n",
        "  for data1 in data_x:\n",
        "    data_y.append(data[variable][data1].dropna().mean())\n",
        "    data_y_error.append(sem(data[variable][data1].dropna()))\n",
        "\n",
        "  plt.bar(data_x,  data_y,  color = ['gray', 'burlywood', 'brown', 'green'])\n",
        "  sns.swarmplot(x = 'Treatment',y = variable, data = sap_project_data_scatter, zorder = 2, color = 'black', size = 7)\n",
        "  plt.errorbar(x =data_x, y=data_y, yerr =data_y_error, fmt = 'o' , color = 'black', capsize = 10)\n",
        "  plt.ylabel(f'{variable}', size =7)\n",
        "  plt.title(f'Graph for {variable}')\n",
        "  plt.show()"
      ],
      "metadata": {
        "id": "idz1H4-17mh1"
      },
      "execution_count": null,
      "outputs": []
    },
    {
      "cell_type": "code",
      "source": [
        "for column in column_names:\n",
        "  draw_graphs(data, column)"
      ],
      "metadata": {
        "colab": {
          "base_uri": "https://localhost:8080/",
          "height": 1000
        },
        "id": "q98mqRd8-JDT",
        "outputId": "260b01a5-d078-4728-a014-a96e55646779"
      },
      "execution_count": null,
      "outputs": [
        {
          "output_type": "display_data",
          "data": {
            "text/plain": [
              "<Figure size 432x288 with 1 Axes>"
            ],
            "image/png": "[encoded data removed]"
          },
          "metadata": {
            "needs_background": "light"
          }
        },
        {
          "output_type": "display_data",
          "data": {
            "text/plain": [
              "<Figure size 432x288 with 1 Axes>"
            ],
            "image/png": "[encoded data removed]"
          },
          "metadata": {
            "needs_background": "light"
          }
        },
        {
          "output_type": "display_data",
          "data": {
            "text/plain": [
              "<Figure size 432x288 with 1 Axes>"
            ],
            "image/png": "[encoded data removed]"
          },
          "metadata": {
            "needs_background": "light"
          }
        },
        {
          "output_type": "display_data",
          "data": {
            "text/plain": [
              "<Figure size 432x288 with 1 Axes>"
            ],
            "image/png": "[encoded data removed]"
          },
          "metadata": {
            "needs_background": "light"
          }
        },
        {
          "output_type": "display_data",
          "data": {
            "text/plain": [
              "<Figure size 432x288 with 1 Axes>"
            ],
            "image/png": "[encoded data removed]"
          },
          "metadata": {
            "needs_background": "light"
          }
        },
        {
          "output_type": "display_data",
          "data": {
            "text/plain": [
              "<Figure size 432x288 with 1 Axes>"
            ],
            "image/png": "[encoded data removed]"
          },
          "metadata": {
            "needs_background": "light"
          }
        },
        {
          "output_type": "display_data",
          "data": {
            "text/plain": [
              "<Figure size 432x288 with 1 Axes>"
            ],
            "image/png": "[encoded data removed]"
          },
          "metadata": {
            "needs_background": "light"
          }
        },
        {
          "output_type": "display_data",
          "data": {
            "text/plain": [
              "<Figure size 432x288 with 1 Axes>"
            ],
            "image/png": "[encoded data removed]"
          },
          "metadata": {
            "needs_background": "light"
          }
        },
        {
          "output_type": "display_data",
          "data": {
            "text/plain": [
              "<Figure size 432x288 with 1 Axes>"
            ],
            "image/png": "[encoded data removed]"
          },
          "metadata": {
            "needs_background": "light"
          }
        },
        {
          "output_type": "display_data",
          "data": {
            "text/plain": [
              "<Figure size 432x288 with 1 Axes>"
            ],
            "image/png": "[encoded data removed]"
          },
          "metadata": {
            "needs_background": "light"
          }
        },
        {
          "output_type": "display_data",
          "data": {
            "text/plain": [
              "<Figure size 432x288 with 1 Axes>"
            ],
            "image/png": "[encoded data removed]"
          },
          "metadata": {
            "needs_background": "light"
          }
        },
        {
          "output_type": "display_data",
          "data": {
            "text/plain": [
              "<Figure size 432x288 with 1 Axes>"
            ],
            "image/png": "[encoded data removed]"
          },
          "metadata": {
            "needs_background": "light"
          }
        },
        {
          "output_type": "display_data",
          "data": {
            "text/plain": [
              "<Figure size 432x288 with 1 Axes>"
            ],
            "image/png": "[encoded data removed]"
          },
          "metadata": {
            "needs_background": "light"
          }
        }
      ]
    },
    {
      "cell_type": "code",
      "source": [
        "# data_y = [data['a2_dl']['DSAP_BDL'].mean(), data['a2_dl']['DSAP_Sham'].mean(), data['a2_dl']['Veh_BDL'].mean(),data['a2_dl']['Veh_Sham'].mean()  ]\n",
        "# data_y_error =[sem(data['a2_dl']['DSAP_BDL'].dropna()),sem(data['a2_dl']['DSAP_Sham'].dropna()), sem(data['a2_dl']['Veh_BDL'].dropna()), \n",
        "#                sem(data['a2_dl']['Veh_Sham'].dropna())]\n",
        "# sap_project_data_scatter['Treatment'].replace({'Vehicle_BDL': 'Veh_BDL'}, inplace =True)\n",
        "# sap_project_data_scatter['Treatment'].replace({'Vehicle_Sham': 'Veh_Sham'}, inplace =True)\n",
        "# data_x = list(sap_project_data_scatter['Treatment'].unique())\n",
        "# plt.bar(data_x,  data_y,  zorder = 1, color = ['gray', 'burlywood', 'brown', 'green'])\n",
        "# sns.swarmplot(x = 'Treatment',y = 'a2_dl', data = sap_project_data_scatter, zorder = 2, color = 'black')\n",
        "# plt.errorbar(x =data_x, y=data_y, yerr =data_y_error, fmt = 'o' , color = 'black', capsize = 10)\n",
        "# plt.ylabel('Total number of A2 cells Immunoreactive to DBH and Delta FosB', size =7)\n",
        "# plt.title('A2 Double Labeled Cells')\n",
        "# plt.show()"
      ],
      "metadata": {
        "id": "2jfsBuq0ZNpD"
      },
      "execution_count": null,
      "outputs": []
    },
    {
      "cell_type": "code",
      "source": [],
      "metadata": {
        "id": "4W6URyqL09FA"
      },
      "execution_count": null,
      "outputs": []
    }
  ]
}